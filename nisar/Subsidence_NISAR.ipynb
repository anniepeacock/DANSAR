{
  "nbformat": 4,
  "nbformat_minor": 0,
  "metadata": {
    "colab": {
      "provenance": [],
      "collapsed_sections": [
        "hsixMK7giTeR"
      ],
      "include_colab_link": true
    },
    "kernelspec": {
      "display_name": "Python 3",
      "language": "python",
      "name": "python3"
    },
    "language_info": {
      "codemirror_mode": {
        "name": "ipython",
        "version": 3
      },
      "file_extension": ".py",
      "mimetype": "text/x-python",
      "name": "python",
      "nbconvert_exporter": "python",
      "pygments_lexer": "ipython3",
      "version": "3.8.5"
    }
  },
  "cells": [
    {
      "cell_type": "markdown",
      "metadata": {
        "id": "view-in-github",
        "colab_type": "text"
      },
      "source": [
        "<a href=\"https://colab.research.google.com/github/anniepeacock/DANSAR/blob/devel/nisar/Subsidence_NISAR.ipynb\" target=\"_parent\"><img src=\"https://colab.research.google.com/assets/colab-badge.svg\" alt=\"Open In Colab\"/></a>"
      ]
    },
    {
      "cell_type": "markdown",
      "metadata": {
        "id": "q_QeF4ajQzLe"
      },
      "source": [
        "\n",
        "# NISAR Application: Subsidence\n",
        "\n",
        "### Corresponding Story Map: https://arcg.is/0PGi5f0\n",
        "\n",
        "### I. How to create SAR quicklook images of subsidence?\n",
        "\n",
        "* Useful Products:\n",
        "* Useful Wavelengths:\n",
        "* Instructions to View:\n",
        "\n",
        "### II. How to interpret SAR images of subsidence?\n",
        "\n"
      ]
    },
    {
      "cell_type": "markdown",
      "metadata": {
        "id": "7HvjphvgQzLi"
      },
      "source": [
        "## SAR Examples: California Oil Fields\n"
      ]
    },
    {
      "cell_type": "markdown",
      "metadata": {
        "id": "3sWd4zK3gMnq"
      },
      "source": [
        "The content of this notebook is as follows:\n",
        "\n",
        "1. [Running the Notebook](#s1)\n",
        "2. [Example 1](#s2)\n",
        "3. [Example 2](#s3)\n",
        "3. [References](#s4)\n",
        "\n",
        "\n"
      ]
    },
    {
      "cell_type": "markdown",
      "metadata": {
        "id": "eJGjkyH2QzLi"
      },
      "source": [
        "<a name=\"s1\"></a>\n",
        "## 1. Running the Notebook\n",
        "\n",
        "- This Notebook has both \"text\" and \"code\" cells. The text cells have text descriptions about running the notebooks and data interpretation.\n",
        "- Code cells are a light gray and a \"play\" button appears in the upper left corner when your mouse is hovered over the cell.\n",
        "- To run the content in the code cells, **select the play button** in the upper left corner of each code cell or **press shift-enter**."
      ]
    },
    {
      "cell_type": "markdown",
      "source": [
        "### Install Python Packages\n",
        "This routine uses several python libaries. Some are already included in the Google Colab environment and others are installed and imported in the cell below. Downloading new python packages to this environment may take a few seconds to complete."
      ],
      "metadata": {
        "id": "hsixMK7giTeR"
      }
    },
    {
      "cell_type": "code",
      "metadata": {
        "id": "552ZvYFxQzLj"
      },
      "source": [
        "!pip install rasterio --quiet\n",
        "!pip install geopandas --quiet\n",
        "\n",
        "import rasterio as rio                      # Read and write geospatial raster data\n",
        "from rasterio.plot import plotting_extent   # Returns plotting extent in format needed\n",
        "import matplotlib.pyplot as plt             # Plotting, making graphs\n",
        "import geopandas as gpd                     # Visualizing and importing geodata frames\n",
        "import numpy as np                          # Numeric and mathematic functions\n",
        "import math                                 # Access to mathematical functions\n",
        "import getpass\n",
        "import os\n",
        "from osgeo import gdal"
      ],
      "execution_count": 2,
      "outputs": []
    },
    {
      "cell_type": "markdown",
      "source": [
        "### Download the Data\n",
        "\n",
        "Fetch UAVSAR geotiffs from the download links below with wget. The original UAVSAR data have been converted to cropped and subset geotiffs over the Station Fire perimeter.\n"
      ],
      "metadata": {
        "id": "R_q_M-VKhAbk"
      }
    },
    {
      "cell_type": "code",
      "source": [
        "!%%shell\n",
        "!yes | add-apt-repository ppa:ubuntugis/ppa\n",
        "!apt-get update\n",
        "!apt-get install gdal-bin libgdal-dev\n",
        "!C_INCLUDE_PATH=/usr/include/gdal CPLUS_INCLUDE_PATH=/usr/include/gdal python -m pip install GDAL==\"$(gdal-config --version)\""
      ],
      "metadata": {
        "id": "uchN7FeIdyrI",
        "outputId": "47823cbf-0587-4ae1-a2ae-1b82d9bf4c7e",
        "colab": {
          "base_uri": "https://localhost:8080/"
        }
      },
      "execution_count": 3,
      "outputs": [
        {
          "output_type": "stream",
          "name": "stdout",
          "text": [
            "/bin/bash: line 1: fg: no job control\n",
            "PPA publishes dbgsym, you may need to include 'main/debug' component\n",
            "Repository: 'deb https://ppa.launchpadcontent.net/ubuntugis/ppa/ubuntu/ jammy main'\n",
            "Description:\n",
            "Official stable UbuntuGIS packages.\n",
            "\n",
            "\n",
            "More info: https://launchpad.net/~ubuntugis/+archive/ubuntu/ppa\n",
            "Adding repository.\n",
            "Found existing deb entry in /etc/apt/sources.list.d/ubuntugis-ubuntu-ppa-jammy.list\n",
            "Adding deb entry to /etc/apt/sources.list.d/ubuntugis-ubuntu-ppa-jammy.list\n",
            "Found existing deb-src entry in /etc/apt/sources.list.d/ubuntugis-ubuntu-ppa-jammy.list\n",
            "Adding disabled deb-src entry to /etc/apt/sources.list.d/ubuntugis-ubuntu-ppa-jammy.list\n",
            "Adding key to /etc/apt/trusted.gpg.d/ubuntugis-ubuntu-ppa.gpg with fingerprint 6B827C12C2D425E227EDCA75089EBE08314DF160\n",
            "Hit:1 https://cloud.r-project.org/bin/linux/ubuntu jammy-cran40/ InRelease\n",
            "Hit:2 http://archive.ubuntu.com/ubuntu jammy InRelease\n",
            "Hit:3 http://archive.ubuntu.com/ubuntu jammy-updates InRelease\n",
            "Hit:4 http://archive.ubuntu.com/ubuntu jammy-backports InRelease\n",
            "Hit:5 https://developer.download.nvidia.com/compute/cuda/repos/ubuntu2204/x86_64  InRelease\n",
            "Hit:6 https://ppa.launchpadcontent.net/c2d4u.team/c2d4u4.0+/ubuntu jammy InRelease\n",
            "Hit:7 https://ppa.launchpadcontent.net/deadsnakes/ppa/ubuntu jammy InRelease\n",
            "Hit:8 https://ppa.launchpadcontent.net/graphics-drivers/ppa/ubuntu jammy InRelease\n",
            "Hit:9 http://security.ubuntu.com/ubuntu jammy-security InRelease\n",
            "Hit:10 https://ppa.launchpadcontent.net/ubuntugis/ppa/ubuntu jammy InRelease\n",
            "Reading package lists... Done\n",
            "Hit:1 http://archive.ubuntu.com/ubuntu jammy InRelease\n",
            "Hit:2 http://archive.ubuntu.com/ubuntu jammy-updates InRelease\n",
            "Hit:3 http://archive.ubuntu.com/ubuntu jammy-backports InRelease\n",
            "Hit:4 https://cloud.r-project.org/bin/linux/ubuntu jammy-cran40/ InRelease\n",
            "Hit:5 http://security.ubuntu.com/ubuntu jammy-security InRelease\n",
            "Hit:6 https://developer.download.nvidia.com/compute/cuda/repos/ubuntu2204/x86_64  InRelease\n",
            "Hit:7 https://ppa.launchpadcontent.net/c2d4u.team/c2d4u4.0+/ubuntu jammy InRelease\n",
            "Hit:8 https://ppa.launchpadcontent.net/deadsnakes/ppa/ubuntu jammy InRelease\n",
            "Hit:9 https://ppa.launchpadcontent.net/graphics-drivers/ppa/ubuntu jammy InRelease\n",
            "Hit:10 https://ppa.launchpadcontent.net/ubuntugis/ppa/ubuntu jammy InRelease\n",
            "Reading package lists... Done\n",
            "Reading package lists... Done\n",
            "Building dependency tree... Done\n",
            "Reading state information... Done\n",
            "gdal-bin is already the newest version (3.4.3+dfsg-1~jammy0).\n",
            "libgdal-dev is already the newest version (3.4.3+dfsg-1~jammy0).\n",
            "0 upgraded, 0 newly installed, 0 to remove and 29 not upgraded.\n",
            "Requirement already satisfied: GDAL==3.4.3 in /usr/local/lib/python3.10/dist-packages (3.4.3)\n"
          ]
        }
      ]
    },
    {
      "cell_type": "code",
      "source": [
        "# Download data files from JPL website\n",
        "username = getpass.getpass(prompt='Earthdata username:')\n",
        "password = getpass.getpass(prompt='Earthdata password:')"
      ],
      "metadata": {
        "id": "3zvkkRXug_4I",
        "outputId": "0a3e88bf-7c24-42b0-9342-faac4208c372",
        "colab": {
          "base_uri": "https://localhost:8080/"
        }
      },
      "execution_count": 4,
      "outputs": [
        {
          "name": "stdout",
          "output_type": "stream",
          "text": [
            "Earthdata username:··········\n",
            "Earthdata password:··········\n"
          ]
        }
      ]
    },
    {
      "cell_type": "code",
      "source": [
        "# California Oil Fields\n",
        "!wget --user {username} --password {password} https://uavsar.asf.alaska.edu/UA_SanAnd_23007_09084-010_10083-013_0401d_s01_L090_01/SanAnd_23007_09084-010_10083-013_0401d_s01_L090HH_01.ann --quiet\n",
        "!wget --user {username} --password {password} https://uavsar.asf.alaska.edu/UA_SanAnd_23007_09084-010_10083-013_0401d_s01_L090_01/SanAnd_23007_09084-010_10083-013_0401d_s01_L090HH_01.int.grd --quiet\n",
        "!wget --user {username} --password {password} https://uavsar.asf.alaska.edu/UA_SanAnd_23007_09084-010_10083-013_0401d_s01_L090_01/SanAnd_23007_09084-010_10083-013_0401d_s01_L090HH_01.unw.grd --quiet"
      ],
      "metadata": {
        "id": "__hOmFTsX7YQ",
        "outputId": "990dafd9-42aa-4a3c-fcbd-5b67b2341085",
        "colab": {
          "base_uri": "https://localhost:8080/"
        }
      },
      "execution_count": 5,
      "outputs": [
        {
          "output_type": "stream",
          "name": "stdout",
          "text": [
            "--2024-01-17 21:56:51--  https://uavsar.asf.alaska.edu/UA_SanAnd_23007_09084-010_10083-013_0401d_s01_L090_01/SanAnd_23007_09084-010_10083-013_0401d_s01_L090HH_01.ann\n",
            "Resolving uavsar.asf.alaska.edu (uavsar.asf.alaska.edu)... 137.229.87.170, 137.229.87.163\n",
            "Connecting to uavsar.asf.alaska.edu (uavsar.asf.alaska.edu)|137.229.87.170|:443... connected.\n",
            "HTTP request sent, awaiting response... 200 OK\n",
            "Length: 29860 (29K) [text/plain]\n",
            "Saving to: ‘SanAnd_23007_09084-010_10083-013_0401d_s01_L090HH_01.ann’\n",
            "\n",
            "SanAnd_23007_09084- 100%[===================>]  29.16K  --.-KB/s    in 0s      \n",
            "\n",
            "2024-01-17 21:56:53 (266 MB/s) - ‘SanAnd_23007_09084-010_10083-013_0401d_s01_L090HH_01.ann’ saved [29860/29860]\n",
            "\n",
            "--2024-01-17 21:56:53--  https://uavsar.asf.alaska.edu/UA_SanAnd_23007_09084-010_10083-013_0401d_s01_L090_01/SanAnd_23007_09084-010_10083-013_0401d_s01_L090HH_01.int.grd\n",
            "Resolving uavsar.asf.alaska.edu (uavsar.asf.alaska.edu)... 137.229.87.170, 137.229.87.163\n",
            "Connecting to uavsar.asf.alaska.edu (uavsar.asf.alaska.edu)|137.229.87.170|:443... connected.\n",
            "HTTP request sent, awaiting response... 302 Moved Temporarily\n",
            "Location: https://urs.earthdata.nasa.gov/oauth/authorize?response_type=code&client_id=BO_n7nTIlMljdvU6kRRB3g&redirect_uri=https://auth.asf.alaska.edu/login&state=https://uavsar.asf.alaska.edu/UA_SanAnd_23007_09084-010_10083-013_0401d_s01_L090_01/SanAnd_23007_09084-010_10083-013_0401d_s01_L090HH_01.int.grd&app_type=401 [following]\n",
            "--2024-01-17 21:56:54--  https://urs.earthdata.nasa.gov/oauth/authorize?response_type=code&client_id=BO_n7nTIlMljdvU6kRRB3g&redirect_uri=https://auth.asf.alaska.edu/login&state=https://uavsar.asf.alaska.edu/UA_SanAnd_23007_09084-010_10083-013_0401d_s01_L090_01/SanAnd_23007_09084-010_10083-013_0401d_s01_L090HH_01.int.grd&app_type=401\n",
            "Resolving urs.earthdata.nasa.gov (urs.earthdata.nasa.gov)... 198.118.243.33, 2001:4d0:241a:4081::89\n",
            "Connecting to urs.earthdata.nasa.gov (urs.earthdata.nasa.gov)|198.118.243.33|:443... connected.\n",
            "HTTP request sent, awaiting response... 401 Unauthorized\n",
            "Authentication selected: Basic realm=\"Please enter your Earthdata Login credentials. If you do not have a Earthdata Login, create one at https://urs.earthdata.nasa.gov//users/new\"\n",
            "Reusing existing connection to urs.earthdata.nasa.gov:443.\n",
            "HTTP request sent, awaiting response... 302 Found\n",
            "Location: https://auth.asf.alaska.edu/login?code=QDHbjCPfrioEUtclgxbeWO_l9wI3ApFK5sLwGdQXO4LckoHND3rbYR4yfxT2MDKaM-wC&state=https%3A%2F%2Fuavsar.asf.alaska.edu%2FUA_SanAnd_23007_09084-010_10083-013_0401d_s01_L090_01%2FSanAnd_23007_09084-010_10083-013_0401d_s01_L090HH_01.int.grd [following]\n",
            "--2024-01-17 21:56:55--  https://auth.asf.alaska.edu/login?code=QDHbjCPfrioEUtclgxbeWO_l9wI3ApFK5sLwGdQXO4LckoHND3rbYR4yfxT2MDKaM-wC&state=https%3A%2F%2Fuavsar.asf.alaska.edu%2FUA_SanAnd_23007_09084-010_10083-013_0401d_s01_L090_01%2FSanAnd_23007_09084-010_10083-013_0401d_s01_L090HH_01.int.grd\n",
            "Resolving auth.asf.alaska.edu (auth.asf.alaska.edu)... 18.65.39.31, 18.65.39.60, 18.65.39.67, ...\n",
            "Connecting to auth.asf.alaska.edu (auth.asf.alaska.edu)|18.65.39.31|:443... connected.\n",
            "HTTP request sent, awaiting response... 301 Moved Permanently\n",
            "Location: https://uavsar.asf.alaska.edu/UA_SanAnd_23007_09084-010_10083-013_0401d_s01_L090_01/SanAnd_23007_09084-010_10083-013_0401d_s01_L090HH_01.int.grd [following]\n",
            "--2024-01-17 21:56:58--  https://uavsar.asf.alaska.edu/UA_SanAnd_23007_09084-010_10083-013_0401d_s01_L090_01/SanAnd_23007_09084-010_10083-013_0401d_s01_L090HH_01.int.grd\n",
            "Connecting to uavsar.asf.alaska.edu (uavsar.asf.alaska.edu)|137.229.87.170|:443... connected.\n",
            "HTTP request sent, awaiting response... 200 OK\n",
            "Length: 2414515584 (2.2G) [text/plain]\n",
            "Saving to: ‘SanAnd_23007_09084-010_10083-013_0401d_s01_L090HH_01.int.grd’\n",
            "\n",
            "SanAnd_23007_09084- 100%[===================>]   2.25G  16.1MB/s    in 2m 32s  \n",
            "\n",
            "2024-01-17 21:59:30 (15.2 MB/s) - ‘SanAnd_23007_09084-010_10083-013_0401d_s01_L090HH_01.int.grd’ saved [2414515584/2414515584]\n",
            "\n",
            "--2024-01-17 21:59:31--  https://uavsar.asf.alaska.edu/UA_SanAnd_23007_09084-010_10083-013_0401d_s01_L090_01/SanAnd_23007_09084-010_10083-013_0401d_s01_L090HH_01.unw.grd\n",
            "Resolving uavsar.asf.alaska.edu (uavsar.asf.alaska.edu)... 137.229.87.163, 137.229.87.170\n",
            "Connecting to uavsar.asf.alaska.edu (uavsar.asf.alaska.edu)|137.229.87.163|:443... connected.\n",
            "HTTP request sent, awaiting response... 302 Moved Temporarily\n",
            "Location: https://urs.earthdata.nasa.gov/oauth/authorize?response_type=code&client_id=BO_n7nTIlMljdvU6kRRB3g&redirect_uri=https://auth.asf.alaska.edu/login&state=https://uavsar.asf.alaska.edu/UA_SanAnd_23007_09084-010_10083-013_0401d_s01_L090_01/SanAnd_23007_09084-010_10083-013_0401d_s01_L090HH_01.unw.grd&app_type=401 [following]\n",
            "--2024-01-17 21:59:32--  https://urs.earthdata.nasa.gov/oauth/authorize?response_type=code&client_id=BO_n7nTIlMljdvU6kRRB3g&redirect_uri=https://auth.asf.alaska.edu/login&state=https://uavsar.asf.alaska.edu/UA_SanAnd_23007_09084-010_10083-013_0401d_s01_L090_01/SanAnd_23007_09084-010_10083-013_0401d_s01_L090HH_01.unw.grd&app_type=401\n",
            "Resolving urs.earthdata.nasa.gov (urs.earthdata.nasa.gov)... 198.118.243.33, 2001:4d0:241a:4081::89\n",
            "Connecting to urs.earthdata.nasa.gov (urs.earthdata.nasa.gov)|198.118.243.33|:443... connected.\n",
            "HTTP request sent, awaiting response... 401 Unauthorized\n",
            "Authentication selected: Basic realm=\"Please enter your Earthdata Login credentials. If you do not have a Earthdata Login, create one at https://urs.earthdata.nasa.gov//users/new\"\n",
            "Reusing existing connection to urs.earthdata.nasa.gov:443.\n",
            "HTTP request sent, awaiting response... 302 Found\n",
            "Location: https://auth.asf.alaska.edu/login?code=Tlnb-QnaAvux5lq8uW9becqsDcZm0OXbSLDmRie72ekVeR2-E_eldtw7viNFDSqbEcGo&state=https%3A%2F%2Fuavsar.asf.alaska.edu%2FUA_SanAnd_23007_09084-010_10083-013_0401d_s01_L090_01%2FSanAnd_23007_09084-010_10083-013_0401d_s01_L090HH_01.unw.grd [following]\n",
            "--2024-01-17 21:59:32--  https://auth.asf.alaska.edu/login?code=Tlnb-QnaAvux5lq8uW9becqsDcZm0OXbSLDmRie72ekVeR2-E_eldtw7viNFDSqbEcGo&state=https%3A%2F%2Fuavsar.asf.alaska.edu%2FUA_SanAnd_23007_09084-010_10083-013_0401d_s01_L090_01%2FSanAnd_23007_09084-010_10083-013_0401d_s01_L090HH_01.unw.grd\n",
            "Resolving auth.asf.alaska.edu (auth.asf.alaska.edu)... 18.65.39.3, 18.65.39.60, 18.65.39.31, ...\n",
            "Connecting to auth.asf.alaska.edu (auth.asf.alaska.edu)|18.65.39.3|:443... connected.\n",
            "HTTP request sent, awaiting response... 301 Moved Permanently\n",
            "Location: https://uavsar.asf.alaska.edu/UA_SanAnd_23007_09084-010_10083-013_0401d_s01_L090_01/SanAnd_23007_09084-010_10083-013_0401d_s01_L090HH_01.unw.grd [following]\n",
            "--2024-01-17 21:59:34--  https://uavsar.asf.alaska.edu/UA_SanAnd_23007_09084-010_10083-013_0401d_s01_L090_01/SanAnd_23007_09084-010_10083-013_0401d_s01_L090HH_01.unw.grd\n",
            "Connecting to uavsar.asf.alaska.edu (uavsar.asf.alaska.edu)|137.229.87.163|:443... connected.\n",
            "HTTP request sent, awaiting response... 200 OK\n",
            "Length: 1207257792 (1.1G) [text/plain]\n",
            "Saving to: ‘SanAnd_23007_09084-010_10083-013_0401d_s01_L090HH_01.unw.grd’\n",
            "\n",
            "SanAnd_23007_09084- 100%[===================>]   1.12G  16.2MB/s    in 75s     \n",
            "\n",
            "2024-01-17 22:00:50 (15.3 MB/s) - ‘SanAnd_23007_09084-010_10083-013_0401d_s01_L090HH_01.unw.grd’ saved [1207257792/1207257792]\n",
            "\n"
          ]
        }
      ]
    },
    {
      "cell_type": "code",
      "source": [
        "!git clone https://bitbucket.org/nathanmthomas/bucket-of-rs-and-gis-scripts/src/master/BuildUAVSARhdr.py"
      ],
      "metadata": {
        "id": "FhxbvMw2Ee6h",
        "outputId": "ccb48c93-6446-48d1-db7f-b7cc8d062688",
        "colab": {
          "base_uri": "https://localhost:8080/"
        }
      },
      "execution_count": 6,
      "outputs": [
        {
          "output_type": "stream",
          "name": "stdout",
          "text": [
            "Cloning into 'BuildUAVSARhdr.py'...\n",
            "remote: Enumerating objects: 229, done.\u001b[K\n",
            "remote: Counting objects: 100% (229/229), done.\u001b[K\n",
            "remote: Compressing objects: 100% (225/225), done.\u001b[K\n",
            "remote: Total 229 (delta 120), reused 0 (delta 0), pack-reused 0\u001b[K\n",
            "Receiving objects: 100% (229/229), 50.10 KiB | 255.00 KiB/s, done.\n",
            "Resolving deltas: 100% (120/120), done.\n"
          ]
        }
      ]
    },
    {
      "cell_type": "code",
      "source": [
        "!python3 \"/content/BuildUAVSARhdr.py/BuildUAVSARhdr.py\" -h"
      ],
      "metadata": {
        "id": "Kr4h1l00pDzs",
        "outputId": "5163ada0-7a2b-4f7b-803d-bf9b85724c4c",
        "colab": {
          "base_uri": "https://localhost:8080/"
        }
      },
      "execution_count": 12,
      "outputs": [
        {
          "output_type": "stream",
          "name": "stdout",
          "text": [
            "UAVSAR.py is written by Nathan Thomas (nmthomas28@gmail.com, @DrNASApants)  formerly of the Aberystwyth University Earth Observation and Ecosystems Dynamics Laboratory (@AU_EarthObs) as part of a visiting research program at NASA JPL. Ammended to process UAVSAR InSAR pair data by Yang Zheng (April 2015).\n",
            "Use '-h' for help and required input parameters\n",
            "\n",
            "usage: BuildUAVSARhdr.py [-h] [-i INPUT] [-r UAVSAR] [-p POLARIZATION]\n",
            "\n",
            "options:\n",
            "  -h, --help            show this help message and exit\n",
            "  -i INPUT, --input INPUT\n",
            "                        Specify the input UAVSAR ann file\n",
            "  -r UAVSAR, --uavsar UAVSAR\n",
            "                        Specify the input UAVSAR radar file\n",
            "  -p POLARIZATION, --polarization POLARIZATION\n",
            "                        Specify the input UAVSAR polarization in UPPERCASE (i.e HHHV, HHHH, VVVV,\n",
            "                        AMP1, AMP2, COR, UNW, HGT, INT)\n"
          ]
        }
      ]
    },
    {
      "cell_type": "code",
      "source": [
        "## Run the HDR script for all the GRD annd annotation files in the directory\n",
        "\n",
        "int_polarization = 'INT'\n",
        "unw_polarization = 'UNW'\n",
        "annotation_file = 'SanAnd_23007_09084-010_10083-013_0401d_s01_L090HH_01.ann'\n",
        "int_file = 'SanAnd_23007_09084-010_10083-013_0401d_s01_L090HH_01.int.grd'\n",
        "unw_file = 'SanAnd_23007_09084-010_10083-013_0401d_s01_L090HH_01.unw.grd'\n",
        "\n",
        "!python3 \"/content/BuildUAVSARhdr.py/BuildUAVSARhdr.py\" -i {annotation_file} -r {int_file} -p {int_polarization}\n",
        "!python3 \"/content/BuildUAVSARhdr.py/BuildUAVSARhdr.py\" -i {annotation_file} -r {unw_file} -p {unw_polarization}"
      ],
      "metadata": {
        "id": "j7UO84hybx4f",
        "outputId": "798b1fe7-a006-4870-eeaa-92931f956c1b",
        "colab": {
          "base_uri": "https://localhost:8080/"
        }
      },
      "execution_count": 14,
      "outputs": [
        {
          "output_type": "stream",
          "name": "stdout",
          "text": [
            "UAVSAR.py is written by Nathan Thomas (nmthomas28@gmail.com, @DrNASApants)  formerly of the Aberystwyth University Earth Observation and Ecosystems Dynamics Laboratory (@AU_EarthObs) as part of a visiting research program at NASA JPL. Ammended to process UAVSAR InSAR pair data by Yang Zheng (April 2015).\n",
            "Use '-h' for help and required input parameters\n",
            "\n",
            "UPPER LEFT LAT =  35.65563000\n",
            "UPPER LEFT LONG =  -120.61042584\n",
            "SAMPLES = 15416\n",
            "Lines = 19578\n",
            "PIXEL SIZE =  5.556e-05\n",
            "DATATYPE =  6\n",
            "SanAnd_23007_09084-010_10083-013_0401d_s01_L090HH_01.int.grd.hdr\n",
            "Writing output HDR file...\n",
            "Output HDR file = SanAnd_23007_09084-010_10083-013_0401d_s01_L090HH_01.int.grd.hdr\n",
            "\n",
            "Thank you for using UAVSAR.py\n",
            "\n",
            "UAVSAR.py is written by Nathan Thomas (nmthomas28@gmail.com, @DrNASApants)  formerly of the Aberystwyth University Earth Observation and Ecosystems Dynamics Laboratory (@AU_EarthObs) as part of a visiting research program at NASA JPL. Ammended to process UAVSAR InSAR pair data by Yang Zheng (April 2015).\n",
            "Use '-h' for help and required input parameters\n",
            "\n",
            "UPPER LEFT LAT =  35.65563000\n",
            "UPPER LEFT LONG =  -120.61042584\n",
            "SAMPLES = 15416\n",
            "Lines = 19578\n",
            "PIXEL SIZE =  5.556e-05\n",
            "DATATYPE =  4\n",
            "SanAnd_23007_09084-010_10083-013_0401d_s01_L090HH_01.unw.grd.hdr\n",
            "Writing output HDR file...\n",
            "Output HDR file = SanAnd_23007_09084-010_10083-013_0401d_s01_L090HH_01.unw.grd.hdr\n",
            "\n",
            "Thank you for using UAVSAR.py\n",
            "\n"
          ]
        }
      ]
    },
    {
      "cell_type": "code",
      "source": [
        "# Define input directory and output directory\n",
        "input_directory = '/content'  # Directory containing GRD and INC files\n",
        "output_directory = '/content'  # Directory to save processed files\n",
        "# Define extent and projection details\n",
        "upper_left_x = -119.884 #xmin\n",
        "upper_left_y = 35.564 #ymind\n",
        "lower_right_x = -119.587\n",
        "lower_right_y = 35.395\n",
        "window = (upper_left_x, upper_left_y, lower_right_x, lower_right_y)\n",
        "projection = 'EPSG:4326'"
      ],
      "metadata": {
        "id": "iNv3RlI9c9tl"
      },
      "execution_count": 15,
      "outputs": []
    },
    {
      "cell_type": "code",
      "source": [
        "def process_grd_files(input_dir, output_dir, window, projection):\n",
        "  \"\"\"\n",
        "  Function to take all the GRD files in the input directory and save as geotiffs.\n",
        "  Can set new extents and projections for the output geotiff.\n",
        "  \"\"\"\n",
        "  grd_files = [file for file in os.listdir(input_dir) if file.endswith('.int.grd')]\n",
        "  for grd_file in grd_files:\n",
        "    input_path = os.path.join(input_dir, grd_file)\n",
        "    print(input_path)\n",
        "    output_path = os.path.join(output_dir, grd_file.replace('.int.grd', '_int_clipped.tif'))\n",
        "    print(output_path)\n",
        "    gdal.Warp(output_path, input_path, format='GTiff', outputBounds=window, dstSRS=projection)\n",
        "\n",
        "# Process GRD files\n",
        "process_grd_files(input_directory, output_directory, window, projection)"
      ],
      "metadata": {
        "id": "RshV-8padiIA",
        "outputId": "6e2bc1b4-07e0-4afc-ad8f-e2f31d2d4d48",
        "colab": {
          "base_uri": "https://localhost:8080/"
        }
      },
      "execution_count": 16,
      "outputs": [
        {
          "output_type": "stream",
          "name": "stdout",
          "text": [
            "/content/SanAnd_23007_09084-010_10083-013_0401d_s01_L090HH_01.int.grd\n",
            "/content/SanAnd_23007_09084-010_10083-013_0401d_s01_L090HH_01_int_clipped.tif\n"
          ]
        }
      ]
    },
    {
      "cell_type": "markdown",
      "source": [
        "# 2. California Oil Fields"
      ],
      "metadata": {
        "id": "55V13LRMEcZ3"
      }
    },
    {
      "cell_type": "code",
      "source": [
        "grd = rio.open('/content/SanAnd_23007_09084-010_10083-013_0401d_s01_L090HH_01_int_clipped.tif')\n",
        "grd = grd.read(1)\n",
        "print(np.min(grd))\n",
        "print(np.max(grd))"
      ],
      "metadata": {
        "id": "DTYhg42-hQQo",
        "outputId": "46d4e932-d84f-4402-b5e6-9b27d2d331c8",
        "colab": {
          "base_uri": "https://localhost:8080/"
        }
      },
      "execution_count": 19,
      "outputs": [
        {
          "output_type": "stream",
          "name": "stdout",
          "text": [
            "(-4.9592204+0.67435956j)\n",
            "(4.316325+3.4799514j)\n"
          ]
        }
      ]
    },
    {
      "cell_type": "markdown",
      "metadata": {
        "id": "B6sVzSOvQzLr"
      },
      "source": [
        "## Other Resources\n",
        "\n",
        "UAVSAR Data Download: https://uavsar.jpl.nasa.gov/cgi-bin/data.p\n",
        "\n",
        "## References\n",
        "\n"
      ]
    },
    {
      "cell_type": "markdown",
      "source": [
        "1. Jones, C. E., An, K., Blom, R. G., Kent, J. D., Ivins, E. R., &amp; Bekaert, D. (2016). Anthropogenic and geologic influences on subsidence in the vicinity of New Orleans, Louisiana. Journal of Geophysical Research: Solid Earth, 121(5), 3867–3887. https://doi.org/10.1002/2015jb012636"
      ],
      "metadata": {
        "id": "DumzcWFQFFY7"
      }
    },
    {
      "cell_type": "markdown",
      "metadata": {
        "id": "uB1g5rQvQzLs"
      },
      "source": [
        "![NASA-insignia_Color_rgb_5in_160601.png](data:image/png;base64,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)\n",
        "\n",
        "The research was carried out at the Jet Propulsion Laboratory, California Institute of Technology, under a contract with the National Aeronautics and Space Administration (80NM0018D0004)\n",
        "\n",
        "© 2024. California Institute of Technology. Government sponsorship acknowledged."
      ]
    },
    {
      "cell_type": "code",
      "source": [],
      "metadata": {
        "id": "5NwC1foSDlh8"
      },
      "execution_count": null,
      "outputs": []
    }
  ]
}