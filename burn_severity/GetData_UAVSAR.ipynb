{
  "cells": [
    {
      "cell_type": "markdown",
      "metadata": {
        "id": "view-in-github",
        "colab_type": "text"
      },
      "source": [
        "<a href=\"https://colab.research.google.com/github/anniepeacock/DANSAR/blob/devel/burn_severity/GetData_UAVSAR.ipynb\" target=\"_parent\"><img src=\"https://colab.research.google.com/assets/colab-badge.svg\" alt=\"Open In Colab\"/></a>"
      ]
    },
    {
      "cell_type": "markdown",
      "metadata": {
        "id": "RjoEALIx2LpU"
      },
      "source": [
        "<a href=\"https://colab.research.google.com/github/anniepeacock/DANSAR/blob/devel/utils/Incidence_Angle.ipynb\" target=\"_parent\"><img src=\"https://colab.research.google.com/assets/colab-badge.svg\" alt=\"Open In Colab\"/></a>"
      ]
    },
    {
      "cell_type": "markdown",
      "metadata": {
        "id": "Voknq5nH02ME"
      },
      "source": [
        "# **Downloading NISAR Simulated Data (from UAVSAR) & Making GIS-Ready Products**\n",
        "\n",
        "*This notebook runs through downloading and pre-processing UAVSAR Data to be used for fire severity analysis over the Verdugo Mountains in Los Angeles*\n",
        "\n",
        "- Inputs: GRD, INC, and Annotation files\n",
        "- Outputs: Masked, cropped, incidence-angle correction, speckle filtered, geotiffs\n",
        "\n",
        "----------------\n",
        "\n",
        "Table of Contents:\n",
        "0. [Running the Notebook](#s1)\n",
        "1. [Download UAVSAR Data](#s2)\n",
        "2. [Generate a HDR File](#s3)\n",
        "3. [Read in data and plot](#s4)\n",
        "4. [Crop and export to geotiff](#s5)"
      ]
    },
    {
      "cell_type": "markdown",
      "metadata": {
        "id": "m99HZVbSMSRb"
      },
      "source": [
        "<a name=\"s1\"></a>\n",
        "## Running the Notebook\n",
        "- This Notebook has both \"text\" and \"code\" cells. The text cells have text descriptions about running the notebooks and data interpretation.\n",
        "- Code cells are a light gray and a \"play\" button appears in the upper left corner when your mouse is hovered over the cell.\n",
        "- To run the content in the code cells, **select the play button** in the upper left corner of each code cell or **press shift-enter**.\n",
        "\n",
        "### Python Packages:\n",
        "This routine uses the following python libraries. Some are already included in the Google Colab environment and others are installed in the cell below before imported. Downloading new python packages to this environment may take a few minutes to complete."
      ]
    },
    {
      "cell_type": "code",
      "execution_count": null,
      "metadata": {
        "colab": {
          "base_uri": "https://localhost:8080/"
        },
        "id": "O8Psm4L8jh-n",
        "outputId": "f5253803-6510-4972-f874-25db974c450a"
      },
      "outputs": [
        {
          "output_type": "stream",
          "name": "stdout",
          "text": [
            "\u001b[2K     \u001b[90m━━━━━━━━━━━━━━━━━━━━━━━━━━━━━━━━━━━━━━━━\u001b[0m \u001b[32m21.5/21.5 MB\u001b[0m \u001b[31m23.8 MB/s\u001b[0m eta \u001b[36m0:00:00\u001b[0m\n",
            "\u001b[?25h"
          ]
        }
      ],
      "source": [
        "!pip install rasterio --quiet        # Install python package \"rasterio\" into Google Colab environment"
      ]
    },
    {
      "cell_type": "code",
      "source": [
        "# Scripts and functions needed from GitHub repos\n",
        "# To build HDR files\n",
        "!git clone https://bitbucket.org/nathanmthomas/bucket-of-rs-and-gis-scripts/src/master/BuildUAVSARhdr.py\n",
        "\n",
        "# To appy Enhanced Lee Speckle Filter\n",
        "!git clone https://github.com/NaiaraSPinto/VegMapper.git\n",
        "\n",
        "# To generate geotiffs and apply incidence angle masking\n",
        "!wget https://raw.githubusercontent.com/anniepeacock/DANSAR/devel/utils/functions.py"
      ],
      "metadata": {
        "colab": {
          "base_uri": "https://localhost:8080/"
        },
        "id": "8tvYHaHhnWCo",
        "outputId": "b0be4692-7081-4a03-8c2b-90ac9d402a1b"
      },
      "execution_count": null,
      "outputs": [
        {
          "output_type": "stream",
          "name": "stdout",
          "text": [
            "Cloning into 'BuildUAVSARhdr.py'...\n",
            "remote: Enumerating objects: 229, done.\u001b[K\n",
            "remote: Counting objects: 100% (229/229), done.\u001b[K\n",
            "remote: Compressing objects: 100% (225/225), done.\u001b[K\n",
            "remote: Total 229 (delta 120), reused 0 (delta 0), pack-reused 0 (from 0)\u001b[K\n",
            "Receiving objects: 100% (229/229), 50.10 KiB | 1.16 MiB/s, done.\n",
            "Resolving deltas: 100% (120/120), done.\n",
            "Cloning into 'VegMapper'...\n",
            "remote: Enumerating objects: 1575, done.\u001b[K\n",
            "remote: Counting objects: 100% (95/95), done.\u001b[K\n",
            "remote: Compressing objects: 100% (67/67), done.\u001b[K\n",
            "remote: Total 1575 (delta 34), reused 74 (delta 28), pack-reused 1480\u001b[K\n",
            "Receiving objects: 100% (1575/1575), 154.23 MiB | 12.98 MiB/s, done.\n",
            "Resolving deltas: 100% (849/849), done.\n",
            "Updating files: 100% (64/64), done.\n",
            "--2024-05-13 21:37:57--  https://raw.githubusercontent.com/anniepeacock/DANSAR/devel/utils/functions.py\n",
            "Resolving raw.githubusercontent.com (raw.githubusercontent.com)... 185.199.108.133, 185.199.110.133, 185.199.111.133, ...\n",
            "Connecting to raw.githubusercontent.com (raw.githubusercontent.com)|185.199.108.133|:443... connected.\n",
            "HTTP request sent, awaiting response... 200 OK\n",
            "Length: 6493 (6.3K) [text/plain]\n",
            "Saving to: ‘functions.py’\n",
            "\n",
            "functions.py        100%[===================>]   6.34K  --.-KB/s    in 0s      \n",
            "\n",
            "2024-05-13 21:37:57 (45.7 MB/s) - ‘functions.py’ saved [6493/6493]\n",
            "\n"
          ]
        }
      ]
    },
    {
      "cell_type": "code",
      "execution_count": null,
      "metadata": {
        "id": "9x6d83Isdaos"
      },
      "outputs": [],
      "source": [
        "import rasterio as rio               # Reading and writing raster formats\n",
        "import numpy as np                   # Numeric and mathematic functions\n",
        "import matplotlib.pyplot as plt      # Plotting, making graphs\n",
        "import getpass                       # Discreet way to enter username and password\n",
        "import os\n",
        "from osgeo import gdal\n",
        "from skimage import filters          # For otsu thresholding\n",
        "import math\n",
        "import geopandas as gpd\n",
        "from matplotlib.patches import Patch          # Creates and plots visualization i.e. legends or figures - (Section 3, 4)\n",
        "from rasterio.plot import plotting_extent     # Creates an object to plot raster and vector data together - (Section 3. HV Change Detection)\n",
        "import requests\n",
        "from osgeo import gdal\n",
        "from rasterio.plot import show_hist\n",
        "from rasterio.mask import mask as rio_mask\n",
        "from shapely.geometry import mapping\n",
        "from rasterio.plot import show\n",
        "\n",
        "# Read in functions from functions.py script\n",
        "from functions import * #download_files, process_grd_files, process_inc_files, mask_and_save, convert_db\n",
        "\n",
        "# Read in enhanced lee filter from VegMapper\n",
        "import sys\n",
        "path_to_module = '/content/VegMapper/vegmapper/core/'\n",
        "sys.path.append(path_to_module)\n",
        "from filter import enhanced_lee"
      ]
    },
    {
      "cell_type": "markdown",
      "metadata": {
        "id": "Pgtz8Eie2vSR"
      },
      "source": [
        "<a name=\"s2\"></a>\n",
        "# 1. Download UAVSAR and NISAR Simulated Data\n",
        "\n",
        "An Earthdata account is required to download the UAVSAR or NISAR Simulated data stored at ASF to this notebook environment. Create an account here, if needed: https://urs.earthdata.nasa.gov//users/new"
      ]
    },
    {
      "cell_type": "code",
      "execution_count": null,
      "metadata": {
        "id": "umCOaolhYOnS",
        "colab": {
          "base_uri": "https://localhost:8080/"
        },
        "outputId": "72acf01b-155d-4b18-81a8-c55e905b10b0"
      },
      "outputs": [
        {
          "name": "stdout",
          "output_type": "stream",
          "text": [
            "Earthdata username:··········\n",
            "Earthdata password:··········\n"
          ]
        }
      ],
      "source": [
        "username = getpass.getpass(prompt='Earthdata username:')\n",
        "password = getpass.getpass(prompt='Earthdata password:')"
      ]
    },
    {
      "cell_type": "markdown",
      "metadata": {
        "id": "Bcn3_VDuoNZC"
      },
      "source": [
        "Now, download the UAVSAR data and its corresponding annotation file using wget and your Earthdata username and password. The annotation file (.ann) is required to generate a HDR (.hdr) file. This hdr file stores the georeferencing information of an associated raw raster file and is needed to make the UAVSAR GRD files (.grd) GIS-readable.\n",
        "\n",
        "\n",
        "Browse for UAVSAR data of interest here: https://uavsar.jpl.nasa.gov/cgi-bin/data.pl\n",
        "\n",
        "* To download here, replace the links below with the new data of interest"
      ]
    },
    {
      "cell_type": "code",
      "source": [
        "# UAVSAR GRDs and corresponding annotation files (needed to make HDR files and make GRDs GIS-compatible)\n",
        "uasvar_urls = [\n",
        "    \"https://uavsar.asf.alaska.edu/UA_SanAnd_08525_14158_003_141023_L090_CX_01/SanAnd_08525_14158_003_141023_L090HVHV_CX_01.grd\",\n",
        "    \"https://uavsar.asf.alaska.edu/UA_SanAnd_08525_14158_003_141023_L090_CX_01/SanAnd_08525_14158_003_141023_L090_CX_01.ann\",\n",
        "    \"https://uavsar.asf.alaska.edu/UA_SanAnd_26526_14092_007_140624_L090_CX_01/SanAnd_26526_14092_007_140624_L090HVHV_CX_01.grd\",\n",
        "    \"https://uavsar.asf.alaska.edu/UA_SanAnd_26526_14092_007_140624_L090_CX_01/SanAnd_26526_14092_007_140624_L090_CX_01.ann\",\n",
        "\n",
        "    \"https://uavsar.asf.alaska.edu/UA_SanAnd_08525_17122_003_171102_L090_CX_01/SanAnd_08525_17122_003_171102_L090HVHV_CX_01.grd\",\n",
        "    \"https://uavsar.asf.alaska.edu/UA_SanAnd_08525_17122_003_171102_L090_CX_01/SanAnd_08525_17122_003_171102_L090_CX_01.ann\",\n",
        "    \"https://uavsar.asf.alaska.edu/UA_SanAnd_26526_17122_004_171102_L090_CX_01/SanAnd_26526_17122_004_171102_L090HVHV_CX_01.grd\",\n",
        "    \"https://uavsar.asf.alaska.edu/UA_SanAnd_26526_17122_004_171102_L090_CX_01/SanAnd_26526_17122_004_171102_L090_CX_01.ann\"\n",
        "]\n",
        "\n",
        "destination_directory = \"./\"\n",
        "\n",
        "download_files(uavsar_urls, destination_directory, username, password)\n",
        "\n",
        "# can also download one at a time with wget:\n",
        "# !wget --user {username} --password {password} https://uavsar.asf.alaska.edu/UA_SanAnd_08525_14158_003_141023_L090_CX_01/SanAnd_08525_14158_003_141023_L090HVHV_CX_01.grd"
      ],
      "metadata": {
        "id": "R76Y8cOYZ989"
      },
      "execution_count": 3,
      "outputs": []
    },
    {
      "cell_type": "code",
      "source": [
        "# Download incidence angle files\n",
        "# NISAR Simulated products do not have their own generated indicence angle files - will need to find the *.inc files from the corresponding UAVSAR data lines\n",
        "\n",
        "# Incidence Angle Files for each line\n",
        "inc_urls = [\n",
        "    \"https://uavsar.asf.alaska.edu/UA_SanAnd_26526_17122_004_171102_L090_CX_01/SanAnd_26526_17122_004_171102_L090_CX_01.inc\",\n",
        "    \"https://uavsar.asf.alaska.edu/UA_SanAnd_08525_23008_011_230712_L090_CX_01/SanAnd_08525_17122_003_171102_L090_CX_01.inc\"\n",
        "]\n",
        "\n",
        "download_files(inc_urls, destination_directory, username, password)"
      ],
      "metadata": {
        "colab": {
          "base_uri": "https://localhost:8080/"
        },
        "id": "ldFHLu4pv-0h",
        "outputId": "aef19c32-db9e-4d0a-9210-2945f09c53c7"
      },
      "execution_count": null,
      "outputs": [
        {
          "output_type": "stream",
          "name": "stdout",
          "text": [
            "Failed to download: SanAnd_26526_17122_004_171102_L090_CX_01.inc, Status code: 401\n",
            "Failed to download: SanAnd_08525_17122_003_171102_L090_CX_01.inc, Status code: 401\n"
          ]
        }
      ]
    },
    {
      "cell_type": "markdown",
      "metadata": {
        "id": "XZJf0edidu-3"
      },
      "source": [
        "<a name=\"s3\"></a>\n",
        "# 2. Generate a HDR file\n",
        "\n",
        "Generate HDR files for each of the GRDs, so they can be GIS-compatible and converted to geotiffs."
      ]
    },
    {
      "cell_type": "code",
      "execution_count": null,
      "metadata": {
        "collapsed": true,
        "id": "UXbgRCOBDlFg",
        "colab": {
          "base_uri": "https://localhost:8080/"
        },
        "outputId": "8a8adf5f-18e3-4eba-af62-bad0989b75d0"
      },
      "outputs": [
        {
          "output_type": "stream",
          "name": "stdout",
          "text": [
            "UAVSAR.py is written by Nathan Thomas (nmthomas28@gmail.com, @DrNASApants)  formerly of the Aberystwyth University Earth Observation and Ecosystems Dynamics Laboratory (@AU_EarthObs) as part of a visiting research program at NASA JPL. Ammended to process UAVSAR InSAR pair data by Yang Zheng (April 2015).\n",
            "Use '-h' for help and required input parameters\n",
            "\n",
            "usage: BuildUAVSARhdr.py [-h] [-i INPUT] [-r UAVSAR] [-p POLARIZATION]\n",
            "\n",
            "options:\n",
            "  -h, --help            show this help message and exit\n",
            "  -i INPUT, --input INPUT\n",
            "                        Specify the input UAVSAR ann file\n",
            "  -r UAVSAR, --uavsar UAVSAR\n",
            "                        Specify the input UAVSAR radar file\n",
            "  -p POLARIZATION, --polarization POLARIZATION\n",
            "                        Specify the input UAVSAR polarization in UPPERCASE (i.e HHHV, HHHH, VVVV,\n",
            "                        AMP1, AMP2, COR, UNW, HGT, INT)\n"
          ]
        }
      ],
      "source": [
        "!python3 \"/content/BuildUAVSARhdr.py/BuildUAVSARhdr.py\" -h"
      ]
    },
    {
      "cell_type": "code",
      "source": [
        "def run_hdr_script(directory, polarization):\n",
        "    file_data = []\n",
        "\n",
        "    # Find GRD and annotation files\n",
        "    for filename in os.listdir(directory):\n",
        "        if filename.endswith('.grd'):\n",
        "            grd_file = filename\n",
        "            annotation_file = filename.replace(f'_L090{polarization}_', '_L090_').replace('.grd', '.ann')\n",
        "            file_data.append((grd_file, annotation_file))\n",
        "        elif filename.endswith('.inc'):\n",
        "            grd_file = filename\n",
        "            annotation_file = filename.replace(f'_L090{polarization}_', '_L090_').replace('.inc', '.ann')\n",
        "            file_data.append((grd_file, annotation_file))\n",
        "\n",
        "    # Run HDR script for each file\n",
        "    for grd_file, annotation_file in file_data:\n",
        "        !python3 \"/content/BuildUAVSARhdr.py/BuildUAVSARhdr.py\" -i {annotation_file} -r {grd_file} -p {polarization}\n",
        "\n",
        "# Run HDR script for HVHV polarization\n",
        "run_hdr_script('./', 'HVHV')\n",
        "\n",
        "# Run HDR script for HHHH polarization\n",
        "run_hdr_script('./', 'HHHH')\n",
        "\n",
        "# Run HDR script for incidence angle files (assuming .inc files)\n",
        "run_hdr_script('./', 'HVHV')  # You can put whichever polarization, using HVHV as a placeholder here"
      ],
      "metadata": {
        "id": "j_nM4mAJzWBt",
        "colab": {
          "base_uri": "https://localhost:8080/"
        },
        "outputId": "b089841c-496c-4421-de23-42bba7c5c5e5"
      },
      "execution_count": null,
      "outputs": [
        {
          "output_type": "stream",
          "name": "stdout",
          "text": [
            "UAVSAR.py is written by Nathan Thomas (nmthomas28@gmail.com, @DrNASApants)  formerly of the Aberystwyth University Earth Observation and Ecosystems Dynamics Laboratory (@AU_EarthObs) as part of a visiting research program at NASA JPL. Ammended to process UAVSAR InSAR pair data by Yang Zheng (April 2015).\n",
            "Use '-h' for help and required input parameters\n",
            "\n",
            "UPPER LEFT LAT =  34.4433\n",
            "UPPER LEFT LONG =  -119.2884\n",
            "SAMPLES = 4136\n",
            "Lines = 32329\n",
            "PIXEL SIZE =  0.0001\n",
            "DATATYPE =  4\n",
            "SanAnd_08525_14158_003_141023_L090HVHV_CG_138A_02.grd.hdr\n",
            "Writing output HDR file...\n",
            "Output HDR file = SanAnd_08525_14158_003_141023_L090HVHV_CG_138A_02.grd.hdr\n",
            "\n",
            "Thank you for using UAVSAR.py\n",
            "\n",
            "UAVSAR.py is written by Nathan Thomas (nmthomas28@gmail.com, @DrNASApants)  formerly of the Aberystwyth University Earth Observation and Ecosystems Dynamics Laboratory (@AU_EarthObs) as part of a visiting research program at NASA JPL. Ammended to process UAVSAR InSAR pair data by Yang Zheng (April 2015).\n",
            "Use '-h' for help and required input parameters\n",
            "\n",
            "UPPER LEFT LAT =  34.443200000000004\n",
            "UPPER LEFT LONG =  -119.2896\n",
            "SAMPLES = 4135\n",
            "Lines = 32317\n",
            "PIXEL SIZE =  0.0001\n",
            "DATATYPE =  4\n",
            "SanAnd_08525_17122_003_171102_L090HVHV_CG_138A_02.grd.hdr\n",
            "Writing output HDR file...\n",
            "Output HDR file = SanAnd_08525_17122_003_171102_L090HVHV_CG_138A_02.grd.hdr\n",
            "\n",
            "Thank you for using UAVSAR.py\n",
            "\n",
            "UAVSAR.py is written by Nathan Thomas (nmthomas28@gmail.com, @DrNASApants)  formerly of the Aberystwyth University Earth Observation and Ecosystems Dynamics Laboratory (@AU_EarthObs) as part of a visiting research program at NASA JPL. Ammended to process UAVSAR InSAR pair data by Yang Zheng (April 2015).\n",
            "Use '-h' for help and required input parameters\n",
            "\n",
            "Traceback (most recent call last):\n",
            "  File \"/content/BuildUAVSARhdr.py/BuildUAVSARhdr.py\", line 127, in <module>\n",
            "    main()\n",
            "  File \"/content/BuildUAVSARhdr.py/BuildUAVSARhdr.py\", line 123, in main\n",
            "    genHDRfromTXT(args)\n",
            "  File \"/content/BuildUAVSARhdr.py/BuildUAVSARhdr.py\", line 31, in genHDRfromTXT\n",
            "    annFile = open(file, 'r')\n",
            "FileNotFoundError: [Errno 2] No such file or directory: 'SanAnd_26526_14092_007_140624_L090HHHH_CG_138A_02.ann'\n",
            "UAVSAR.py is written by Nathan Thomas (nmthomas28@gmail.com, @DrNASApants)  formerly of the Aberystwyth University Earth Observation and Ecosystems Dynamics Laboratory (@AU_EarthObs) as part of a visiting research program at NASA JPL. Ammended to process UAVSAR InSAR pair data by Yang Zheng (April 2015).\n",
            "Use '-h' for help and required input parameters\n",
            "\n",
            "Traceback (most recent call last):\n",
            "  File \"/content/BuildUAVSARhdr.py/BuildUAVSARhdr.py\", line 127, in <module>\n",
            "    main()\n",
            "  File \"/content/BuildUAVSARhdr.py/BuildUAVSARhdr.py\", line 123, in main\n",
            "    genHDRfromTXT(args)\n",
            "  File \"/content/BuildUAVSARhdr.py/BuildUAVSARhdr.py\", line 31, in genHDRfromTXT\n",
            "    annFile = open(file, 'r')\n",
            "FileNotFoundError: [Errno 2] No such file or directory: 'SanAnd_26526_17122_004_171102_L090HHHH_CG_138A_02.ann'\n",
            "UAVSAR.py is written by Nathan Thomas (nmthomas28@gmail.com, @DrNASApants)  formerly of the Aberystwyth University Earth Observation and Ecosystems Dynamics Laboratory (@AU_EarthObs) as part of a visiting research program at NASA JPL. Ammended to process UAVSAR InSAR pair data by Yang Zheng (April 2015).\n",
            "Use '-h' for help and required input parameters\n",
            "\n",
            "UPPER LEFT LAT =  34.5572\n",
            "UPPER LEFT LONG =  -119.3376\n",
            "SAMPLES = 5128\n",
            "Lines = 32857\n",
            "PIXEL SIZE =  0.0001\n",
            "DATATYPE =  4\n",
            "SanAnd_26526_17122_004_171102_L090HVHV_CG_138A_02.grd.hdr\n",
            "Writing output HDR file...\n",
            "Output HDR file = SanAnd_26526_17122_004_171102_L090HVHV_CG_138A_02.grd.hdr\n",
            "\n",
            "Thank you for using UAVSAR.py\n",
            "\n",
            "UAVSAR.py is written by Nathan Thomas (nmthomas28@gmail.com, @DrNASApants)  formerly of the Aberystwyth University Earth Observation and Ecosystems Dynamics Laboratory (@AU_EarthObs) as part of a visiting research program at NASA JPL. Ammended to process UAVSAR InSAR pair data by Yang Zheng (April 2015).\n",
            "Use '-h' for help and required input parameters\n",
            "\n",
            "Traceback (most recent call last):\n",
            "  File \"/content/BuildUAVSARhdr.py/BuildUAVSARhdr.py\", line 127, in <module>\n",
            "    main()\n",
            "  File \"/content/BuildUAVSARhdr.py/BuildUAVSARhdr.py\", line 123, in main\n",
            "    genHDRfromTXT(args)\n",
            "  File \"/content/BuildUAVSARhdr.py/BuildUAVSARhdr.py\", line 31, in genHDRfromTXT\n",
            "    annFile = open(file, 'r')\n",
            "FileNotFoundError: [Errno 2] No such file or directory: 'SanAnd_08525_14158_003_141023_L090HHHH_CG_138A_02.ann'\n",
            "UAVSAR.py is written by Nathan Thomas (nmthomas28@gmail.com, @DrNASApants)  formerly of the Aberystwyth University Earth Observation and Ecosystems Dynamics Laboratory (@AU_EarthObs) as part of a visiting research program at NASA JPL. Ammended to process UAVSAR InSAR pair data by Yang Zheng (April 2015).\n",
            "Use '-h' for help and required input parameters\n",
            "\n",
            "Traceback (most recent call last):\n",
            "  File \"/content/BuildUAVSARhdr.py/BuildUAVSARhdr.py\", line 127, in <module>\n",
            "    main()\n",
            "  File \"/content/BuildUAVSARhdr.py/BuildUAVSARhdr.py\", line 123, in main\n",
            "    genHDRfromTXT(args)\n",
            "  File \"/content/BuildUAVSARhdr.py/BuildUAVSARhdr.py\", line 31, in genHDRfromTXT\n",
            "    annFile = open(file, 'r')\n",
            "FileNotFoundError: [Errno 2] No such file or directory: 'SanAnd_08525_17122_003_171102_L090HHHH_CG_138A_02.ann'\n",
            "UAVSAR.py is written by Nathan Thomas (nmthomas28@gmail.com, @DrNASApants)  formerly of the Aberystwyth University Earth Observation and Ecosystems Dynamics Laboratory (@AU_EarthObs) as part of a visiting research program at NASA JPL. Ammended to process UAVSAR InSAR pair data by Yang Zheng (April 2015).\n",
            "Use '-h' for help and required input parameters\n",
            "\n",
            "UPPER LEFT LAT =  34.557\n",
            "UPPER LEFT LONG =  -119.3376\n",
            "SAMPLES = 5126\n",
            "Lines = 32833\n",
            "PIXEL SIZE =  0.0001\n",
            "DATATYPE =  4\n",
            "SanAnd_26526_14092_007_140624_L090HVHV_CG_138A_02.grd.hdr\n",
            "Writing output HDR file...\n",
            "Output HDR file = SanAnd_26526_14092_007_140624_L090HVHV_CG_138A_02.grd.hdr\n",
            "\n",
            "Thank you for using UAVSAR.py\n",
            "\n",
            "UAVSAR.py is written by Nathan Thomas (nmthomas28@gmail.com, @DrNASApants)  formerly of the Aberystwyth University Earth Observation and Ecosystems Dynamics Laboratory (@AU_EarthObs) as part of a visiting research program at NASA JPL. Ammended to process UAVSAR InSAR pair data by Yang Zheng (April 2015).\n",
            "Use '-h' for help and required input parameters\n",
            "\n",
            "Traceback (most recent call last):\n",
            "  File \"/content/BuildUAVSARhdr.py/BuildUAVSARhdr.py\", line 127, in <module>\n",
            "    main()\n",
            "  File \"/content/BuildUAVSARhdr.py/BuildUAVSARhdr.py\", line 123, in main\n",
            "    genHDRfromTXT(args)\n",
            "  File \"/content/BuildUAVSARhdr.py/BuildUAVSARhdr.py\", line 31, in genHDRfromTXT\n",
            "    annFile = open(file, 'r')\n",
            "FileNotFoundError: [Errno 2] No such file or directory: 'SanAnd_08525_14158_003_141023_L090HVHV_CG_138A_02.ann'\n",
            "UAVSAR.py is written by Nathan Thomas (nmthomas28@gmail.com, @DrNASApants)  formerly of the Aberystwyth University Earth Observation and Ecosystems Dynamics Laboratory (@AU_EarthObs) as part of a visiting research program at NASA JPL. Ammended to process UAVSAR InSAR pair data by Yang Zheng (April 2015).\n",
            "Use '-h' for help and required input parameters\n",
            "\n",
            "Traceback (most recent call last):\n",
            "  File \"/content/BuildUAVSARhdr.py/BuildUAVSARhdr.py\", line 127, in <module>\n",
            "    main()\n",
            "  File \"/content/BuildUAVSARhdr.py/BuildUAVSARhdr.py\", line 123, in main\n",
            "    genHDRfromTXT(args)\n",
            "  File \"/content/BuildUAVSARhdr.py/BuildUAVSARhdr.py\", line 31, in genHDRfromTXT\n",
            "    annFile = open(file, 'r')\n",
            "FileNotFoundError: [Errno 2] No such file or directory: 'SanAnd_08525_17122_003_171102_L090HVHV_CG_138A_02.ann'\n",
            "UAVSAR.py is written by Nathan Thomas (nmthomas28@gmail.com, @DrNASApants)  formerly of the Aberystwyth University Earth Observation and Ecosystems Dynamics Laboratory (@AU_EarthObs) as part of a visiting research program at NASA JPL. Ammended to process UAVSAR InSAR pair data by Yang Zheng (April 2015).\n",
            "Use '-h' for help and required input parameters\n",
            "\n",
            "UPPER LEFT LAT =  34.557\n",
            "UPPER LEFT LONG =  -119.3376\n",
            "SAMPLES = 5126\n",
            "Lines = 32833\n",
            "PIXEL SIZE =  0.0001\n",
            "DATATYPE =  4\n",
            "SanAnd_26526_14092_007_140624_L090HHHH_CG_138A_02.grd.hdr\n",
            "Writing output HDR file...\n",
            "Output HDR file = SanAnd_26526_14092_007_140624_L090HHHH_CG_138A_02.grd.hdr\n",
            "\n",
            "Thank you for using UAVSAR.py\n",
            "\n",
            "UAVSAR.py is written by Nathan Thomas (nmthomas28@gmail.com, @DrNASApants)  formerly of the Aberystwyth University Earth Observation and Ecosystems Dynamics Laboratory (@AU_EarthObs) as part of a visiting research program at NASA JPL. Ammended to process UAVSAR InSAR pair data by Yang Zheng (April 2015).\n",
            "Use '-h' for help and required input parameters\n",
            "\n",
            "UPPER LEFT LAT =  34.5572\n",
            "UPPER LEFT LONG =  -119.3376\n",
            "SAMPLES = 5128\n",
            "Lines = 32857\n",
            "PIXEL SIZE =  0.0001\n",
            "DATATYPE =  4\n",
            "SanAnd_26526_17122_004_171102_L090HHHH_CG_138A_02.grd.hdr\n",
            "Writing output HDR file...\n",
            "Output HDR file = SanAnd_26526_17122_004_171102_L090HHHH_CG_138A_02.grd.hdr\n",
            "\n",
            "Thank you for using UAVSAR.py\n",
            "\n",
            "UAVSAR.py is written by Nathan Thomas (nmthomas28@gmail.com, @DrNASApants)  formerly of the Aberystwyth University Earth Observation and Ecosystems Dynamics Laboratory (@AU_EarthObs) as part of a visiting research program at NASA JPL. Ammended to process UAVSAR InSAR pair data by Yang Zheng (April 2015).\n",
            "Use '-h' for help and required input parameters\n",
            "\n",
            "Traceback (most recent call last):\n",
            "  File \"/content/BuildUAVSARhdr.py/BuildUAVSARhdr.py\", line 127, in <module>\n",
            "    main()\n",
            "  File \"/content/BuildUAVSARhdr.py/BuildUAVSARhdr.py\", line 123, in main\n",
            "    genHDRfromTXT(args)\n",
            "  File \"/content/BuildUAVSARhdr.py/BuildUAVSARhdr.py\", line 31, in genHDRfromTXT\n",
            "    annFile = open(file, 'r')\n",
            "FileNotFoundError: [Errno 2] No such file or directory: 'SanAnd_26526_17122_004_171102_L090HVHV_CG_138A_02.ann'\n",
            "UAVSAR.py is written by Nathan Thomas (nmthomas28@gmail.com, @DrNASApants)  formerly of the Aberystwyth University Earth Observation and Ecosystems Dynamics Laboratory (@AU_EarthObs) as part of a visiting research program at NASA JPL. Ammended to process UAVSAR InSAR pair data by Yang Zheng (April 2015).\n",
            "Use '-h' for help and required input parameters\n",
            "\n",
            "UPPER LEFT LAT =  34.4433\n",
            "UPPER LEFT LONG =  -119.2884\n",
            "SAMPLES = 4136\n",
            "Lines = 32329\n",
            "PIXEL SIZE =  0.0001\n",
            "DATATYPE =  4\n",
            "SanAnd_08525_14158_003_141023_L090HHHH_CG_138A_02.grd.hdr\n",
            "Writing output HDR file...\n",
            "Output HDR file = SanAnd_08525_14158_003_141023_L090HHHH_CG_138A_02.grd.hdr\n",
            "\n",
            "Thank you for using UAVSAR.py\n",
            "\n",
            "UAVSAR.py is written by Nathan Thomas (nmthomas28@gmail.com, @DrNASApants)  formerly of the Aberystwyth University Earth Observation and Ecosystems Dynamics Laboratory (@AU_EarthObs) as part of a visiting research program at NASA JPL. Ammended to process UAVSAR InSAR pair data by Yang Zheng (April 2015).\n",
            "Use '-h' for help and required input parameters\n",
            "\n",
            "UPPER LEFT LAT =  34.443200000000004\n",
            "UPPER LEFT LONG =  -119.2896\n",
            "SAMPLES = 4135\n",
            "Lines = 32317\n",
            "PIXEL SIZE =  0.0001\n",
            "DATATYPE =  4\n",
            "SanAnd_08525_17122_003_171102_L090HHHH_CG_138A_02.grd.hdr\n",
            "Writing output HDR file...\n",
            "Output HDR file = SanAnd_08525_17122_003_171102_L090HHHH_CG_138A_02.grd.hdr\n",
            "\n",
            "Thank you for using UAVSAR.py\n",
            "\n",
            "UAVSAR.py is written by Nathan Thomas (nmthomas28@gmail.com, @DrNASApants)  formerly of the Aberystwyth University Earth Observation and Ecosystems Dynamics Laboratory (@AU_EarthObs) as part of a visiting research program at NASA JPL. Ammended to process UAVSAR InSAR pair data by Yang Zheng (April 2015).\n",
            "Use '-h' for help and required input parameters\n",
            "\n",
            "Traceback (most recent call last):\n",
            "  File \"/content/BuildUAVSARhdr.py/BuildUAVSARhdr.py\", line 127, in <module>\n",
            "    main()\n",
            "  File \"/content/BuildUAVSARhdr.py/BuildUAVSARhdr.py\", line 123, in main\n",
            "    genHDRfromTXT(args)\n",
            "  File \"/content/BuildUAVSARhdr.py/BuildUAVSARhdr.py\", line 31, in genHDRfromTXT\n",
            "    annFile = open(file, 'r')\n",
            "FileNotFoundError: [Errno 2] No such file or directory: 'SanAnd_26526_14092_007_140624_L090HVHV_CG_138A_02.ann'\n",
            "UAVSAR.py is written by Nathan Thomas (nmthomas28@gmail.com, @DrNASApants)  formerly of the Aberystwyth University Earth Observation and Ecosystems Dynamics Laboratory (@AU_EarthObs) as part of a visiting research program at NASA JPL. Ammended to process UAVSAR InSAR pair data by Yang Zheng (April 2015).\n",
            "Use '-h' for help and required input parameters\n",
            "\n",
            "UPPER LEFT LAT =  34.4433\n",
            "UPPER LEFT LONG =  -119.2884\n",
            "SAMPLES = 4136\n",
            "Lines = 32329\n",
            "PIXEL SIZE =  0.0001\n",
            "DATATYPE =  4\n",
            "SanAnd_08525_14158_003_141023_L090HVHV_CG_138A_02.grd.hdr\n",
            "Writing output HDR file...\n",
            "Output HDR file = SanAnd_08525_14158_003_141023_L090HVHV_CG_138A_02.grd.hdr\n",
            "\n",
            "Thank you for using UAVSAR.py\n",
            "\n",
            "UAVSAR.py is written by Nathan Thomas (nmthomas28@gmail.com, @DrNASApants)  formerly of the Aberystwyth University Earth Observation and Ecosystems Dynamics Laboratory (@AU_EarthObs) as part of a visiting research program at NASA JPL. Ammended to process UAVSAR InSAR pair data by Yang Zheng (April 2015).\n",
            "Use '-h' for help and required input parameters\n",
            "\n",
            "UPPER LEFT LAT =  34.443200000000004\n",
            "UPPER LEFT LONG =  -119.2896\n",
            "SAMPLES = 4135\n",
            "Lines = 32317\n",
            "PIXEL SIZE =  0.0001\n",
            "DATATYPE =  4\n",
            "SanAnd_08525_17122_003_171102_L090HVHV_CG_138A_02.grd.hdr\n",
            "Writing output HDR file...\n",
            "Output HDR file = SanAnd_08525_17122_003_171102_L090HVHV_CG_138A_02.grd.hdr\n",
            "\n",
            "Thank you for using UAVSAR.py\n",
            "\n",
            "UAVSAR.py is written by Nathan Thomas (nmthomas28@gmail.com, @DrNASApants)  formerly of the Aberystwyth University Earth Observation and Ecosystems Dynamics Laboratory (@AU_EarthObs) as part of a visiting research program at NASA JPL. Ammended to process UAVSAR InSAR pair data by Yang Zheng (April 2015).\n",
            "Use '-h' for help and required input parameters\n",
            "\n",
            "Traceback (most recent call last):\n",
            "  File \"/content/BuildUAVSARhdr.py/BuildUAVSARhdr.py\", line 127, in <module>\n",
            "    main()\n",
            "  File \"/content/BuildUAVSARhdr.py/BuildUAVSARhdr.py\", line 123, in main\n",
            "    genHDRfromTXT(args)\n",
            "  File \"/content/BuildUAVSARhdr.py/BuildUAVSARhdr.py\", line 31, in genHDRfromTXT\n",
            "    annFile = open(file, 'r')\n",
            "FileNotFoundError: [Errno 2] No such file or directory: 'SanAnd_26526_14092_007_140624_L090HHHH_CG_138A_02.ann'\n",
            "UAVSAR.py is written by Nathan Thomas (nmthomas28@gmail.com, @DrNASApants)  formerly of the Aberystwyth University Earth Observation and Ecosystems Dynamics Laboratory (@AU_EarthObs) as part of a visiting research program at NASA JPL. Ammended to process UAVSAR InSAR pair data by Yang Zheng (April 2015).\n",
            "Use '-h' for help and required input parameters\n",
            "\n",
            "Traceback (most recent call last):\n",
            "  File \"/content/BuildUAVSARhdr.py/BuildUAVSARhdr.py\", line 127, in <module>\n",
            "    main()\n",
            "  File \"/content/BuildUAVSARhdr.py/BuildUAVSARhdr.py\", line 123, in main\n",
            "    genHDRfromTXT(args)\n",
            "  File \"/content/BuildUAVSARhdr.py/BuildUAVSARhdr.py\", line 31, in genHDRfromTXT\n",
            "    annFile = open(file, 'r')\n",
            "FileNotFoundError: [Errno 2] No such file or directory: 'SanAnd_26526_17122_004_171102_L090HHHH_CG_138A_02.ann'\n",
            "UAVSAR.py is written by Nathan Thomas (nmthomas28@gmail.com, @DrNASApants)  formerly of the Aberystwyth University Earth Observation and Ecosystems Dynamics Laboratory (@AU_EarthObs) as part of a visiting research program at NASA JPL. Ammended to process UAVSAR InSAR pair data by Yang Zheng (April 2015).\n",
            "Use '-h' for help and required input parameters\n",
            "\n",
            "UPPER LEFT LAT =  34.5572\n",
            "UPPER LEFT LONG =  -119.3376\n",
            "SAMPLES = 5128\n",
            "Lines = 32857\n",
            "PIXEL SIZE =  0.0001\n",
            "DATATYPE =  4\n",
            "SanAnd_26526_17122_004_171102_L090HVHV_CG_138A_02.grd.hdr\n",
            "Writing output HDR file...\n",
            "Output HDR file = SanAnd_26526_17122_004_171102_L090HVHV_CG_138A_02.grd.hdr\n",
            "\n",
            "Thank you for using UAVSAR.py\n",
            "\n",
            "UAVSAR.py is written by Nathan Thomas (nmthomas28@gmail.com, @DrNASApants)  formerly of the Aberystwyth University Earth Observation and Ecosystems Dynamics Laboratory (@AU_EarthObs) as part of a visiting research program at NASA JPL. Ammended to process UAVSAR InSAR pair data by Yang Zheng (April 2015).\n",
            "Use '-h' for help and required input parameters\n",
            "\n",
            "Traceback (most recent call last):\n",
            "  File \"/content/BuildUAVSARhdr.py/BuildUAVSARhdr.py\", line 127, in <module>\n",
            "    main()\n",
            "  File \"/content/BuildUAVSARhdr.py/BuildUAVSARhdr.py\", line 123, in main\n",
            "    genHDRfromTXT(args)\n",
            "  File \"/content/BuildUAVSARhdr.py/BuildUAVSARhdr.py\", line 31, in genHDRfromTXT\n",
            "    annFile = open(file, 'r')\n",
            "FileNotFoundError: [Errno 2] No such file or directory: 'SanAnd_08525_14158_003_141023_L090HHHH_CG_138A_02.ann'\n",
            "UAVSAR.py is written by Nathan Thomas (nmthomas28@gmail.com, @DrNASApants)  formerly of the Aberystwyth University Earth Observation and Ecosystems Dynamics Laboratory (@AU_EarthObs) as part of a visiting research program at NASA JPL. Ammended to process UAVSAR InSAR pair data by Yang Zheng (April 2015).\n",
            "Use '-h' for help and required input parameters\n",
            "\n",
            "Traceback (most recent call last):\n",
            "  File \"/content/BuildUAVSARhdr.py/BuildUAVSARhdr.py\", line 127, in <module>\n",
            "    main()\n",
            "  File \"/content/BuildUAVSARhdr.py/BuildUAVSARhdr.py\", line 123, in main\n",
            "    genHDRfromTXT(args)\n",
            "  File \"/content/BuildUAVSARhdr.py/BuildUAVSARhdr.py\", line 31, in genHDRfromTXT\n",
            "    annFile = open(file, 'r')\n",
            "FileNotFoundError: [Errno 2] No such file or directory: 'SanAnd_08525_17122_003_171102_L090HHHH_CG_138A_02.ann'\n",
            "UAVSAR.py is written by Nathan Thomas (nmthomas28@gmail.com, @DrNASApants)  formerly of the Aberystwyth University Earth Observation and Ecosystems Dynamics Laboratory (@AU_EarthObs) as part of a visiting research program at NASA JPL. Ammended to process UAVSAR InSAR pair data by Yang Zheng (April 2015).\n",
            "Use '-h' for help and required input parameters\n",
            "\n",
            "UPPER LEFT LAT =  34.557\n",
            "UPPER LEFT LONG =  -119.3376\n",
            "SAMPLES = 5126\n",
            "Lines = 32833\n",
            "PIXEL SIZE =  0.0001\n",
            "DATATYPE =  4\n",
            "SanAnd_26526_14092_007_140624_L090HVHV_CG_138A_02.grd.hdr\n",
            "Writing output HDR file...\n",
            "Output HDR file = SanAnd_26526_14092_007_140624_L090HVHV_CG_138A_02.grd.hdr\n",
            "\n",
            "Thank you for using UAVSAR.py\n",
            "\n"
          ]
        }
      ]
    },
    {
      "cell_type": "markdown",
      "metadata": {
        "id": "V7Q5imsiuVWJ"
      },
      "source": [
        "<a name=\"s5\"></a>\n",
        "# 4. Crop the data and export subset to geotiff"
      ]
    },
    {
      "cell_type": "code",
      "execution_count": null,
      "metadata": {
        "id": "mEf6FY1ta2QL"
      },
      "outputs": [],
      "source": [
        "# Define input directory and output directory\n",
        "input_directory = './' # Directory containing GRD and INC files\n",
        "output_directory = './'  # Directory to save processed files\n",
        "\n",
        "# Define extent and projection details\n",
        "upper_left_x = 373624.5024220281047747\n",
        "upper_left_y = 3780585.1359808142296970\n",
        "lower_right_x = 387664.5024220281047747\n",
        "lower_right_y = 3791835.1359808142296970\n",
        "window = (upper_left_x, upper_left_y, lower_right_x, lower_right_y)\n",
        "\n",
        "projection = 'EPSG:26911' # reprojecting here to be in meters to match the Landsat data that will be reprojected in meters."
      ]
    },
    {
      "cell_type": "code",
      "execution_count": null,
      "metadata": {
        "id": "n5sWAPaNbv57"
      },
      "outputs": [],
      "source": [
        "# Process GRD files\n",
        "process_grd_files(input_directory, output_directory, window, projection)"
      ]
    },
    {
      "cell_type": "code",
      "execution_count": null,
      "metadata": {
        "id": "Gc4bKIO3q6E3"
      },
      "outputs": [],
      "source": [
        "# Process incidence angle files\n",
        "process_inc_files(input_directory, output_directory)"
      ]
    },
    {
      "cell_type": "markdown",
      "metadata": {
        "id": "HAVd0MPZdqcR"
      },
      "source": [
        "# 5. Incidence Angle Corrections/Masking\n",
        "\n",
        "Converting sigma0 to gamma0 should remove most of the range/incidence angle dependency.\n",
        "\n",
        "gamma0 = sigma0 / cos(incidence angle)"
      ]
    },
    {
      "cell_type": "code",
      "execution_count": null,
      "metadata": {
        "id": "cvCib1hiiYGb"
      },
      "outputs": [],
      "source": [
        "mask_and_save(input_directory, output_directory)"
      ]
    },
    {
      "cell_type": "code",
      "execution_count": null,
      "metadata": {
        "id": "V-eJG5BWkT3e"
      },
      "outputs": [],
      "source": [
        "grd = rio.open('/content/SanAnd_26526_17122_004_171102_L090HVHV_CG_138A_02_masked.tif')\n",
        "grd = grd.read(1)\n",
        "plt.imshow(grd, vmin=0, vmax=0.1, cmap=\"Greys_r\")\n",
        "\n",
        "grd = rio.open('/content/SanAnd_08525_17122_003_171102_L090HVHV_CG_138A_02_masked.tif')\n",
        "grd = grd.read(1)\n",
        "plt.imshow(grd, vmin=0, vmax=0.1, cmap=\"Greys_r\")\n",
        "\n",
        "## 2014\n",
        "# Open the two input rasters using rasterio\n",
        "with rio.open('/content/SanAnd_08525_14158_003_141023_L090HVHV_CG_138A_02_masked.tif') as src1:\n",
        "    arr1 = src1.read(1, masked=True)\n",
        "    meta1 = src1.meta\n",
        "\n",
        "with rio.open('/content/SanAnd_26526_14092_007_140624_L090HVHV_CG_138A_02_masked.tif') as src2:\n",
        "    arr2 = src2.read(1, masked=True)\n",
        "    meta2 = src2.meta\n",
        "\n",
        "# Merge the two arrays using numpy's maximum function to take the maximum value at each pixel\n",
        "merged_arr_2014 = np.nanmax((arr1, arr2), axis=0)\n",
        "\n",
        "## 2017\n",
        "# Open the two input rasters using rasterio\n",
        "with rio.open('/content/SanAnd_26526_17122_004_171102_L090HVHV_CG_138A_02_masked.tif') as src1:\n",
        "    arr1 = src1.read(1, masked=True)\n",
        "    meta1 = src1.meta\n",
        "\n",
        "with rio.open('/content/SanAnd_08525_17122_003_171102_L090HVHV_CG_138A_02_masked.tif') as src2:\n",
        "    arr2 = src2.read(1, masked=True)\n",
        "    meta2 = src2.meta\n",
        "\n",
        "# Merge the two arrays using numpy's maximum function to take the maximum value at each pixel\n",
        "merged_arr_2017 = np.nanmax((arr1, arr2), axis=0)"
      ]
    },
    {
      "cell_type": "code",
      "source": [
        "fig, axs = plt.subplots(figsize=(20,10))\n",
        "plt.imshow(merged_arr_2014, vmin=0, vmax=0.1, cmap=\"Greys_r\")"
      ],
      "metadata": {
        "id": "cmaOKrW2Hcab"
      },
      "execution_count": null,
      "outputs": []
    },
    {
      "cell_type": "code",
      "execution_count": null,
      "metadata": {
        "id": "d-7CpKGqksOk"
      },
      "outputs": [],
      "source": [
        "fig, axs = plt.subplots(figsize=(20,10))\n",
        "plt.imshow(merged_arr_2017, vmin=0, vmax=0.1, cmap=\"Greys_r\")"
      ]
    },
    {
      "cell_type": "code",
      "source": [
        "plt.figure(figsize=(8, 6))\n",
        "plt.hist(merged_arr_2017.flatten(), range = [-0.25, 1.5], bins=200, alpha=0.7, color='blue')\n",
        "plt.hist(merged_arr_2014.flatten(), range = [-0.25, 1.5], bins=200, alpha=0.7, color='red')\n",
        "plt.xlabel('Pixel Values')\n",
        "plt.ylabel('Frequency')\n",
        "plt.title('Histogram of dNBR 2014 & 2017')\n",
        "plt.show()"
      ],
      "metadata": {
        "id": "jpNjbLqdIecv"
      },
      "execution_count": null,
      "outputs": []
    },
    {
      "cell_type": "markdown",
      "metadata": {
        "id": "m2P63MZbjNYy"
      },
      "source": [
        "# Lee Filter"
      ]
    },
    {
      "cell_type": "code",
      "execution_count": null,
      "metadata": {
        "id": "wqoA_jMowTtQ"
      },
      "outputs": [],
      "source": [
        "lee_merged_arr_2014 = enhanced_lee(merged_arr_2014, 5, 1)\n",
        "lee_merged_arr_2017 = enhanced_lee(merged_arr_2017, 5, 1)"
      ]
    },
    {
      "cell_type": "code",
      "source": [
        "## HV log\n",
        "HV_log = np.log(np.divide(lee_merged_arr_2014, lee_merged_arr_2017))\n",
        "\n",
        "## HV log ratio in dB\n",
        "HV_log_dB = np.divide(convert_db(lee_merged_arr_2014), convert_db(lee_merged_arr_2017))"
      ],
      "metadata": {
        "id": "wjZxbQvT_pgG"
      },
      "execution_count": null,
      "outputs": []
    },
    {
      "cell_type": "code",
      "source": [
        "# Open the reference raster\n",
        "with rasterio.open(reference_raster) as src:\n",
        "    # Get metadata from the reference raster\n",
        "    meta = src.meta\n",
        "\n",
        "    # Update metadata to match the NumPy array\n",
        "    meta.update({\n",
        "        'dtype': HV_log_2014_2017.dtype,\n",
        "        'count': 1  # Assuming there's only one band\n",
        "    })\n",
        "\n",
        "    # Write the NumPy array to a new GeoTIFF file\n",
        "    with rasterio.open(\"HV_log_uavsar.tif\", 'w', **meta) as dst:\n",
        "        dst.write(HV_log, 1)  # Assuming there's only one band (band index 1)"
      ],
      "metadata": {
        "id": "7wE0-HAF_jJL"
      },
      "execution_count": null,
      "outputs": []
    },
    {
      "cell_type": "code",
      "execution_count": null,
      "metadata": {
        "id": "HjE5iw020jDq"
      },
      "outputs": [],
      "source": [
        "HV_log_2014_2017 = np.log(np.divide(lee_merged_arr_2014, lee_merged_arr_2017))\n",
        "\n",
        "fig, axs = plt.subplots(figsize=(20,10))\n",
        "fig.suptitle('HV Change Detection')\n",
        "\n",
        "HV_log_plt = axs.imshow(HV_log_2014_2017, vmin=0, vmax=2, cmap=\"Spectral_r\")\n",
        "fig.colorbar(HV_log_plt, ax=axs, shrink=0.5)"
      ]
    }
  ],
  "metadata": {
    "colab": {
      "provenance": [],
      "collapsed_sections": [
        "m99HZVbSMSRb"
      ],
      "include_colab_link": true
    },
    "kernelspec": {
      "display_name": "Python 3",
      "name": "python3"
    }
  },
  "nbformat": 4,
  "nbformat_minor": 0
}