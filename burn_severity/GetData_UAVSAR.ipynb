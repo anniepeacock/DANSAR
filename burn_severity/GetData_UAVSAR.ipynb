{
  "cells": [
    {
      "cell_type": "markdown",
      "metadata": {
        "id": "view-in-github",
        "colab_type": "text"
      },
      "source": [
        "<a href=\"https://colab.research.google.com/github/anniepeacock/DANSAR/blob/devel/burn_severity/GetData_UAVSAR.ipynb\" target=\"_parent\"><img src=\"https://colab.research.google.com/assets/colab-badge.svg\" alt=\"Open In Colab\"/></a>"
      ]
    },
    {
      "cell_type": "markdown",
      "metadata": {
        "id": "Voknq5nH02ME"
      },
      "source": [
        "# **Downloading UAVSAR Data & Making GIS-Ready Products**\n",
        "\n",
        "*This notebook runs through downloading and pre-processing UAVSAR Data to be used for fire severity analysis over the Verdugo Mountains in Los Angeles*\n",
        "\n",
        "- Inputs: GRD, INC, and Annotation files\n",
        "- Outputs: Masked, cropped, incidence-angle correction, speckle filtered, geotiffs\n",
        "\n",
        "----------------\n",
        "\n",
        "Table of Contents:\n",
        "0. [Running the Notebook](#s1)\n",
        "1. [Download UAVSAR Data](#s2)\n",
        "2. [Generate a HDR File](#s3)\n",
        "3. [Read in data and plot](#s4)\n",
        "4. [Crop and export to geotiff](#s5)"
      ]
    },
    {
      "cell_type": "markdown",
      "metadata": {
        "id": "m99HZVbSMSRb"
      },
      "source": [
        "<a name=\"s1\"></a>\n",
        "## Running the Notebook\n",
        "- This Notebook has both \"text\" and \"code\" cells. The text cells have text descriptions about running the notebooks and data interpretation.\n",
        "- Code cells are a light gray and a \"play\" button appears in the upper left corner when your mouse is hovered over the cell.\n",
        "- To run the content in the code cells, **select the play button** in the upper left corner of each code cell or **press shift-enter**.\n",
        "\n",
        "### Python Packages:\n",
        "This routine uses the following python libraries. Some are already included in the Google Colab environment and others are installed in the cell below before imported. Downloading new python packages to this environment may take a few minutes to complete."
      ]
    },
    {
      "cell_type": "code",
      "execution_count": 25,
      "metadata": {
        "id": "O8Psm4L8jh-n"
      },
      "outputs": [],
      "source": [
        "!pip install rasterio --quiet        # Install python package \"rasterio\" into Google Colab environment\n",
        "!pip install earthpy --quiet         # For plot legends\n",
        "## Using ASF Search\n",
        "!pip install asf_search --quiet"
      ]
    },
    {
      "cell_type": "code",
      "source": [
        "# Scripts and functions needed from GitHub repos\n",
        "# To build HDR files\n",
        "!git clone https://bitbucket.org/nathanmthomas/bucket-of-rs-and-gis-scripts/src/master/BuildUAVSARhdr.py\n",
        "\n",
        "# To appy Enhanced Lee Speckle Filter\n",
        "!git clone https://github.com/NaiaraSPinto/VegMapper.git\n",
        "\n",
        "# To generate geotiffs and apply incidence angle masking\n",
        "!wget https://raw.githubusercontent.com/anniepeacock/DANSAR/devel/utils/functions.py"
      ],
      "metadata": {
        "colab": {
          "base_uri": "https://localhost:8080/"
        },
        "id": "8tvYHaHhnWCo",
        "outputId": "e50f2b8b-aa4c-43c5-eded-ae3485c17190"
      },
      "execution_count": 26,
      "outputs": [
        {
          "output_type": "stream",
          "name": "stdout",
          "text": [
            "fatal: destination path 'BuildUAVSARhdr.py' already exists and is not an empty directory.\n",
            "fatal: destination path 'VegMapper' already exists and is not an empty directory.\n",
            "--2024-06-08 05:38:37--  https://raw.githubusercontent.com/anniepeacock/DANSAR/devel/utils/functions.py\n",
            "Resolving raw.githubusercontent.com (raw.githubusercontent.com)... 185.199.108.133, 185.199.109.133, 185.199.110.133, ...\n",
            "Connecting to raw.githubusercontent.com (raw.githubusercontent.com)|185.199.108.133|:443... connected.\n",
            "HTTP request sent, awaiting response... 200 OK\n",
            "Length: 5783 (5.6K) [text/plain]\n",
            "Saving to: ‘functions.py.1’\n",
            "\n",
            "functions.py.1      100%[===================>]   5.65K  --.-KB/s    in 0s      \n",
            "\n",
            "2024-06-08 05:38:37 (55.9 MB/s) - ‘functions.py.1’ saved [5783/5783]\n",
            "\n"
          ]
        }
      ]
    },
    {
      "cell_type": "code",
      "execution_count": 27,
      "metadata": {
        "id": "9x6d83Isdaos",
        "outputId": "dbeb8272-2cec-4c9f-e51d-7a8d90756f98",
        "colab": {
          "base_uri": "https://localhost:8080/"
        }
      },
      "outputs": [
        {
          "output_type": "stream",
          "name": "stderr",
          "text": [
            "<ipython-input-27-4f7ddbcd74a1>:22: DeprecationWarning: Please use `generic_filter` from the `scipy.ndimage` namespace, the `scipy.ndimage.filters` namespace is deprecated.\n",
            "  from scipy.ndimage.filters import generic_filter\n"
          ]
        }
      ],
      "source": [
        "import rasterio as rio               # Reading and writing raster formats\n",
        "import numpy as np                   # Numeric and mathematic functions\n",
        "import matplotlib.pyplot as plt      # Plotting, making graphs\n",
        "import getpass                       # Discreet way to enter username and password\n",
        "import os\n",
        "from osgeo import gdal\n",
        "from skimage import filters          # For otsu thresholding\n",
        "import math\n",
        "import geopandas as gpd\n",
        "from matplotlib.patches import Patch          # Creates and plots visualization i.e. legends or figures - (Section 3, 4)\n",
        "from rasterio.plot import plotting_extent     # Creates an object to plot raster and vector data together - (Section 3. HV Change Detection)\n",
        "import requests\n",
        "from osgeo import gdal\n",
        "from rasterio.plot import show_hist\n",
        "from rasterio.mask import mask as rio_mask\n",
        "from shapely.geometry import mapping\n",
        "from rasterio.plot import show\n",
        "from matplotlib.colors import ListedColormap\n",
        "import matplotlib.colors as colors\n",
        "import earthpy.plot as ep\n",
        "from skimage import filters\n",
        "from scipy.ndimage.filters import generic_filter\n",
        "from scipy.stats import mode\n",
        "\n",
        "\n",
        "# Read in functions from functions.py script\n",
        "from functions import * #download_files, process_grd_files, process_inc_files, mask_and_save, convert_db\n",
        "\n",
        "# Read in enhanced lee filter from VegMapper\n",
        "import sys\n",
        "path_to_module = '/content/VegMapper/vegmapper/core/'\n",
        "sys.path.append(path_to_module)\n",
        "from filter import enhanced_lee"
      ]
    },
    {
      "cell_type": "markdown",
      "metadata": {
        "id": "Pgtz8Eie2vSR"
      },
      "source": [
        "<a name=\"s2\"></a>\n",
        "# 1. Download UAVSAR and NISAR Simulated Data\n",
        "\n",
        "An Earthdata account is required to download the UAVSAR or NISAR Simulated data stored at ASF to this notebook environment. Create an account here, if needed: https://urs.earthdata.nasa.gov//users/new"
      ]
    },
    {
      "cell_type": "code",
      "execution_count": 10,
      "metadata": {
        "id": "umCOaolhYOnS",
        "colab": {
          "base_uri": "https://localhost:8080/"
        },
        "outputId": "c408cfc0-1ca6-428d-d319-771be92b9613"
      },
      "outputs": [
        {
          "name": "stdout",
          "output_type": "stream",
          "text": [
            "Earthdata username:··········\n",
            "Earthdata password:··········\n"
          ]
        }
      ],
      "source": [
        "username = getpass.getpass(prompt='Earthdata username:')\n",
        "password = getpass.getpass(prompt='Earthdata password:')"
      ]
    },
    {
      "cell_type": "markdown",
      "metadata": {
        "id": "Bcn3_VDuoNZC"
      },
      "source": [
        "Now, download the UAVSAR data and its corresponding annotation file using wget and your Earthdata username and password. The annotation file (.ann) is required to generate a HDR (.hdr) file. This hdr file stores the georeferencing information of an associated raw raster file and is needed to make the UAVSAR GRD files (.grd) GIS-readable.\n",
        "\n",
        "\n",
        "Browse for UAVSAR data of interest here: https://uavsar.jpl.nasa.gov/cgi-bin/data.pl\n",
        "\n",
        "* To download here, replace the links below with the new data of interest"
      ]
    },
    {
      "cell_type": "markdown",
      "source": [
        "### Not Working"
      ],
      "metadata": {
        "id": "KulmENNKJZYD"
      }
    },
    {
      "cell_type": "code",
      "source": [
        "# UAVSAR GRDs and corresponding annotation files (needed to make HDR files and make GRDs GIS-compatible)\n",
        "uavsar_urls = [\n",
        "    \"https://uavsar.asf.alaska.edu/UA_SanAnd_08525_14158_003_141023_L090_CX_01/SanAnd_08525_14158_003_141023_L090HVHV_CX_01.grd\",\n",
        "    \"https://uavsar.asf.alaska.edu/UA_SanAnd_08525_14158_003_141023_L090_CX_01/SanAnd_08525_14158_003_141023_L090_CX_01.ann\",\n",
        "    \"https://uavsar.asf.alaska.edu/UA_SanAnd_26526_14092_007_140624_L090_CX_01/SanAnd_26526_14092_007_140624_L090HVHV_CX_01.grd\",\n",
        "    \"https://uavsar.asf.alaska.edu/UA_SanAnd_26526_14092_007_140624_L090_CX_01/SanAnd_26526_14092_007_140624_L090_CX_01.ann\",\n",
        "\n",
        "    \"https://uavsar.asf.alaska.edu/UA_SanAnd_08525_17122_003_171102_L090_CX_01/SanAnd_08525_17122_003_171102_L090HVHV_CX_01.grd\",\n",
        "    \"https://uavsar.asf.alaska.edu/UA_SanAnd_08525_17122_003_171102_L090_CX_01/SanAnd_08525_17122_003_171102_L090_CX_01.ann\",\n",
        "    \"https://uavsar.asf.alaska.edu/UA_SanAnd_26526_17122_004_171102_L090_CX_01/SanAnd_26526_17122_004_171102_L090HVHV_CX_01.grd\",\n",
        "    \"https://uavsar.asf.alaska.edu/UA_SanAnd_26526_17122_004_171102_L090_CX_01/SanAnd_26526_17122_004_171102_L090_CX_01.ann\",\n",
        "\n",
        "    \"https://uavsar.asf.alaska.edu/UA_SanAnd_26526_17122_004_171102_L090_CX_01/SanAnd_26526_17122_004_171102_L090_CX_01.slope\",\n",
        "    \"https://uavsar.asf.alaska.edu/UA_SanAnd_08525_23008_011_230712_L090_CX_01/SanAnd_08525_17122_003_171102_L090_CX_01.slope\"\n",
        "]\n",
        "\n",
        "destination_directory = \"./\"\n",
        "\n",
        "download_files(uavsar_urls, destination_directory, username, password)\n",
        "\n",
        "# can also download one at a time with wget:\n",
        "#!wget --user {username} --password {password} https://uavsar.asf.alaska.edu/UA_SanAnd_08525_14158_003_141023_L090_CX_01/SanAnd_08525_14158_003_141023_L090HVHV_CX_01.grd"
      ],
      "metadata": {
        "id": "R76Y8cOYZ989",
        "outputId": "e6fe5821-c6a5-45bb-97e1-987eb71e07c4",
        "colab": {
          "base_uri": "https://localhost:8080/"
        }
      },
      "execution_count": 31,
      "outputs": [
        {
          "output_type": "stream",
          "name": "stdout",
          "text": [
            "Failed to download: SanAnd_08525_14158_003_141023_L090HVHV_CX_01.grd, Status code: 401\n",
            "Downloaded: SanAnd_08525_14158_003_141023_L090_CX_01.ann\n",
            "Failed to download: SanAnd_26526_14092_007_140624_L090HVHV_CX_01.grd, Status code: 401\n",
            "Downloaded: SanAnd_26526_14092_007_140624_L090_CX_01.ann\n",
            "Failed to download: SanAnd_08525_17122_003_171102_L090HVHV_CX_01.grd, Status code: 401\n",
            "Downloaded: SanAnd_08525_17122_003_171102_L090_CX_01.ann\n",
            "Failed to download: SanAnd_26526_17122_004_171102_L090HVHV_CX_01.grd, Status code: 401\n",
            "Downloaded: SanAnd_26526_17122_004_171102_L090_CX_01.ann\n",
            "Failed to download: SanAnd_26526_17122_004_171102_L090_CX_01.slope, Status code: 401\n",
            "Failed to download: SanAnd_08525_17122_003_171102_L090_CX_01.slope, Status code: 401\n",
            "--2024-06-08 05:41:15--  https://uavsar.asf.alaska.edu/UA_SanAnd_08525_14158_003_141023_L090_CX_01/SanAnd_08525_14158_003_141023_L090HVHV_CX_01.grd\n",
            "Resolving uavsar.asf.alaska.edu (uavsar.asf.alaska.edu)... 137.229.86.110\n",
            "Connecting to uavsar.asf.alaska.edu (uavsar.asf.alaska.edu)|137.229.86.110|:443... connected.\n",
            "HTTP request sent, awaiting response... 302 Moved Temporarily\n",
            "Location: https://urs.earthdata.nasa.gov/oauth/authorize?response_type=code&client_id=BO_n7nTIlMljdvU6kRRB3g&redirect_uri=https://auth.asf.alaska.edu/login&state=https://uavsar.asf.alaska.edu/UA_SanAnd_08525_14158_003_141023_L090_CX_01/SanAnd_08525_14158_003_141023_L090HVHV_CX_01.grd&app_type=401 [following]\n",
            "--2024-06-08 05:41:15--  https://urs.earthdata.nasa.gov/oauth/authorize?response_type=code&client_id=BO_n7nTIlMljdvU6kRRB3g&redirect_uri=https://auth.asf.alaska.edu/login&state=https://uavsar.asf.alaska.edu/UA_SanAnd_08525_14158_003_141023_L090_CX_01/SanAnd_08525_14158_003_141023_L090HVHV_CX_01.grd&app_type=401\n",
            "Resolving urs.earthdata.nasa.gov (urs.earthdata.nasa.gov)... 198.118.243.33, 2001:4d0:241a:4081::89\n",
            "Connecting to urs.earthdata.nasa.gov (urs.earthdata.nasa.gov)|198.118.243.33|:443... connected.\n",
            "HTTP request sent, awaiting response... 401 Unauthorized\n",
            "Authentication selected: Basic realm=\"Please enter your Earthdata Login credentials. If you do not have a Earthdata Login, create one at https://urs.earthdata.nasa.gov//users/new\"\n",
            "Reusing existing connection to urs.earthdata.nasa.gov:443.\n",
            "HTTP request sent, awaiting response... 302 Found\n",
            "Location: https://auth.asf.alaska.edu/login?code=HHpUsSUBKC0wvccurbn4hoAq2nqir3HYGq3Veqw0ZNMsOxcRfXlcnsu-8O0i3uNN9uIu&state=https%3A%2F%2Fuavsar.asf.alaska.edu%2FUA_SanAnd_08525_14158_003_141023_L090_CX_01%2FSanAnd_08525_14158_003_141023_L090HVHV_CX_01.grd [following]\n",
            "--2024-06-08 05:41:16--  https://auth.asf.alaska.edu/login?code=HHpUsSUBKC0wvccurbn4hoAq2nqir3HYGq3Veqw0ZNMsOxcRfXlcnsu-8O0i3uNN9uIu&state=https%3A%2F%2Fuavsar.asf.alaska.edu%2FUA_SanAnd_08525_14158_003_141023_L090_CX_01%2FSanAnd_08525_14158_003_141023_L090HVHV_CX_01.grd\n",
            "Resolving auth.asf.alaska.edu (auth.asf.alaska.edu)... 3.163.158.112, 3.163.158.51, 3.163.158.4, ...\n",
            "Connecting to auth.asf.alaska.edu (auth.asf.alaska.edu)|3.163.158.112|:443... connected.\n",
            "HTTP request sent, awaiting response... 301 Moved Permanently\n",
            "Location: https://uavsar.asf.alaska.edu/UA_SanAnd_08525_14158_003_141023_L090_CX_01/SanAnd_08525_14158_003_141023_L090HVHV_CX_01.grd [following]\n",
            "--2024-06-08 05:41:17--  https://uavsar.asf.alaska.edu/UA_SanAnd_08525_14158_003_141023_L090_CX_01/SanAnd_08525_14158_003_141023_L090HVHV_CX_01.grd\n",
            "Connecting to uavsar.asf.alaska.edu (uavsar.asf.alaska.edu)|137.229.86.110|:443... connected.\n",
            "HTTP request sent, awaiting response... 200 OK\n",
            "Length: 1676934336 (1.6G) [text/plain]\n",
            "Saving to: ‘SanAnd_08525_14158_003_141023_L090HVHV_CX_01.grd’\n",
            "\n",
            "08525_14158_003_141   0%[                    ]  13.12M  3.74MB/s    eta 9m 53s ^C\n"
          ]
        }
      ]
    },
    {
      "cell_type": "code",
      "source": [
        "# Download incidence angle files\n",
        "# NISAR Simulated products do not have their own generated indicence angle files - will need to find the *.inc files from the corresponding UAVSAR data lines\n",
        "\n",
        "# Incidence Angle Files for each line\n",
        "inc_urls = [\n",
        "    \"https://uavsar.asf.alaska.edu/UA_SanAnd_26526_17122_004_171102_L090_CX_01/SanAnd_26526_17122_004_171102_L090_CX_01.inc\",\n",
        "    \"https://uavsar.asf.alaska.edu/UA_SanAnd_08525_23008_011_230712_L090_CX_01/SanAnd_08525_17122_003_171102_L090_CX_01.inc\"\n",
        "]\n",
        "\n",
        "download_files(inc_urls, destination_directory, username, password)"
      ],
      "metadata": {
        "colab": {
          "base_uri": "https://localhost:8080/"
        },
        "id": "ldFHLu4pv-0h",
        "outputId": "81e0ba16-5819-44d4-d49b-68b019aef04d"
      },
      "execution_count": 30,
      "outputs": [
        {
          "output_type": "stream",
          "name": "stdout",
          "text": [
            "Failed to download: SanAnd_26526_17122_004_171102_L090_CX_01.inc, Status code: 401\n",
            "Failed to download: SanAnd_08525_17122_003_171102_L090_CX_01.inc, Status code: 401\n"
          ]
        }
      ]
    },
    {
      "cell_type": "markdown",
      "source": [
        "### Also Working Download"
      ],
      "metadata": {
        "id": "I8jy_HRbJofL"
      }
    },
    {
      "cell_type": "code",
      "source": [
        "import asf_search as asf\n",
        "session = asf.ASFSession() # Downloading requires session\n",
        "\n",
        "try:\n",
        "    user_pass_session = asf.ASFSession().auth_with_creds(username, password)\n",
        "except asf.ASFAuthenticationError as e:\n",
        "    print(f'Auth failed: {e}')\n",
        "else:\n",
        "    print('Success!')"
      ],
      "metadata": {
        "id": "XFUnH8gyI74t",
        "outputId": "a66001ad-8824-42ff-bacd-dd4b346b2a33",
        "colab": {
          "base_uri": "https://localhost:8080/"
        }
      },
      "execution_count": 11,
      "outputs": [
        {
          "output_type": "stream",
          "name": "stdout",
          "text": [
            "Success!\n"
          ]
        }
      ]
    },
    {
      "cell_type": "code",
      "source": [
        "## 2020 Bobcat Fire\n",
        "granule_list = [\n",
        "    'UA_SanAnd_08525_18076_003_181011_L090HVHV_CX_01-PROJECTED',\n",
        "    'UA_SanAnd_26526_21065_013_211117_L090HVHV_CX_01-PROJECTED',\n",
        "    'UA_SanAnd_08525_21065_014_211117_L090HVHV_CX_01-PROJECTED',\n",
        "    'UA_SanAnd_26526_18076_002_181011_L090HVHV_CX_01-PROJECTED',\n",
        "    'UA_SanAnd_26526_21065_013_211117_L090_CX_01-INC',\n",
        "    'UA_SanAnd_08525_18076_003_181011_L090_CX_01-INC',\n",
        "    'UA_SanAnd_26526_21065_013_211117_L090_CX_01-METADATA',\n",
        "    'UA_SanAnd_08525_18076_003_181011_L090_CX_01-METADATA',\n",
        "    'UA_SanAnd_26526_18076_002_181011_L090_CX_01-METADATA',\n",
        "    'UA_SanAnd_08525_21065_014_211117_L090_CX_01-METADATA',\n",
        "]\n",
        "results = asf.granule_search(granule_list=granule_list)\n",
        "\n",
        "print(f'{len(results)} results found')"
      ],
      "metadata": {
        "id": "-i1obp53JwXu",
        "outputId": "5120a9b6-d733-4e00-8230-707bfc9988f9",
        "colab": {
          "base_uri": "https://localhost:8080/"
        }
      },
      "execution_count": 19,
      "outputs": [
        {
          "output_type": "stream",
          "name": "stdout",
          "text": [
            "6 results found\n"
          ]
        }
      ]
    },
    {
      "cell_type": "code",
      "source": [
        "## 2017 La Tuna Fire (same dates for 2016 Fish Fire but not in 26526)\n",
        "granule_list = [\n",
        "    'UA_SanAnd_08525_14158_003_141023_L090HVHV_CX_01-PROJECTED',\n",
        "    'UA_SanAnd_26526_14092_007_140624_L090HVHV_CX_01-PROJECTED',\n",
        "    'UA_SanAnd_08525_17122_003_171102_L090HVHV_CX_01-PROJECTED',\n",
        "    'UA_SanAnd_26526_17122_004_171102_L090HVHV_CX_01-PROJECTED',\n",
        "    'UA_SanAnd_26526_17122_004_171102_L090_CX_01-INC',\n",
        "    'UA_SanAnd_08525_17122_003_171102_L090_CX_01-INC',\n",
        "    'UA_SanAnd_26526_14092_007_140624_L090_CX_01-METADATA',\n",
        "    'UA_SanAnd_08525_14158_003_141023_L090_CX_01-METADATA',\n",
        "    'UA_SanAnd_26526_17122_004_171102_L090_CX_01-METADATA',\n",
        "    'UA_SanAnd_08525_17122_003_171102_L090_CX_01-METADATA',\n",
        "]\n",
        "results = asf.granule_search(granule_list=granule_list)\n",
        "\n",
        "print(f'{len(results)} results found')"
      ],
      "metadata": {
        "id": "_mw40VfVJAVM",
        "outputId": "b25a48d4-e6ef-4edc-ab17-469fcadfd2c7",
        "colab": {
          "base_uri": "https://localhost:8080/"
        }
      },
      "execution_count": 22,
      "outputs": [
        {
          "output_type": "stream",
          "name": "stdout",
          "text": [
            "6 results found\n"
          ]
        }
      ]
    },
    {
      "cell_type": "code",
      "source": [
        "## 2009 Station Fire\n",
        "granule_list = [\n",
        "    'UA_SanAnd_08525_09010_008_090227_L090HVHV_CX_01-PROJECTED',\n",
        "    'UA_SanAnd_26526_10025_002_100303_L090HVHV_CX_01-PROJECTED',\n",
        "    'UA_SanAnd_08525_10025_001_100303_L090HVHV_CX_01-PROJECTED',\n",
        "    'UA_SanAnd_26526_09072_001_090918_L090HVHV_CX_01-PROJECTED',\n",
        "    'UA_SanAnd_26526_10025_002_100303_L090_CX_01-INC',\n",
        "    'UA_SanAnd_08525_09010_008_090227_L090_CX_01-INC',\n",
        "    'UA_SanAnd_26526_10025_002_100303_L090_CX_01-METADATA',\n",
        "    'UA_SanAnd_08525_09010_008_090227_L090_CX_01-METADATA',\n",
        "    'UA_SanAnd_26526_09072_001_090918_L090_CX_01-METADATA',\n",
        "    'UA_SanAnd_08525_10025_001_100303_L090_CX_01-METADATA',\n",
        "]\n",
        "results = asf.granule_search(granule_list=granule_list)\n",
        "\n",
        "print(f'{len(results)} results found')"
      ],
      "metadata": {
        "id": "bH7jRkdbLT0S",
        "outputId": "f928fa2b-f705-4105-d18b-5a78071b3b95",
        "colab": {
          "base_uri": "https://localhost:8080/"
        }
      },
      "execution_count": 23,
      "outputs": [
        {
          "output_type": "stream",
          "name": "stdout",
          "text": [
            "4 results found\n"
          ]
        }
      ]
    },
    {
      "cell_type": "code",
      "source": [
        "## 2018 Woolsey (08525 for 11/2017 & 10/2020)\n",
        "# granule_list = [\n",
        "#     'UA_SanAnd_08525_X_L090HVHV_CX_01-PROJECTED',\n",
        "#     'UA_SanAnd_26526_X_L090HVHV_CX_01-PROJECTED',\n",
        "#     'UA_SanAnd_08525_X_L090HVHV_CX_01-PROJECTED',\n",
        "#     'UA_SanAnd_26526_X_L090HVHV_CX_01-PROJECTED',\n",
        "#     'UA_SanAnd_26526_X_L090_CX_01-INC',\n",
        "#     'UA_SanAnd_08525_X_L090_CX_01-INC',\n",
        "#     'UA_SanAnd_26526_X_L090_CX_01-METADATA',\n",
        "#     'UA_SanAnd_08525_X_L090_CX_01-METADATA',\n",
        "#     'UA_SanAnd_26526_X_L090_CX_01-METADATA',\n",
        "#     'UA_SanAnd_08525_X_L090_CX_01-METADATA',\n",
        "# ]\n",
        "# results = asf.granule_search(granule_list=granule_list)\n",
        "\n",
        "# print(f'{len(results)} results found')"
      ],
      "metadata": {
        "id": "M0Fz1xyESsRo"
      },
      "execution_count": null,
      "outputs": []
    },
    {
      "cell_type": "code",
      "source": [
        "# granule_list = [\n",
        "#     'UA_SanAnd_08525_X_L090HVHV_CX_01-PROJECTED',\n",
        "#     'UA_SanAnd_26526_X_L090HVHV_CX_01-PROJECTED',\n",
        "#     'UA_SanAnd_08525_X_L090HVHV_CX_01-PROJECTED',\n",
        "#     'UA_SanAnd_26526_X_L090HVHV_CX_01-PROJECTED',\n",
        "#     'UA_SanAnd_26526_X_L090_CX_01-INC',\n",
        "#     'UA_SanAnd_08525_X_L090_CX_01-INC',\n",
        "#     'UA_SanAnd_26526_X_L090_CX_01-METADATA',\n",
        "#     'UA_SanAnd_08525_X_L090_CX_01-METADATA',\n",
        "#     'UA_SanAnd_26526_X_L090_CX_01-METADATA',\n",
        "#     'UA_SanAnd_08525_X_L090_CX_01-METADATA',\n",
        "# ]\n",
        "# results = asf.granule_search(granule_list=granule_list)\n",
        "\n",
        "# print(f'{len(results)} results found')"
      ],
      "metadata": {
        "id": "J7sAfuXZNFZ4"
      },
      "execution_count": 24,
      "outputs": []
    },
    {
      "cell_type": "code",
      "source": [
        "results.download(path='./', session=user_pass_session, processes=10)"
      ],
      "metadata": {
        "id": "L0wbaxsdJGjL"
      },
      "execution_count": 16,
      "outputs": []
    },
    {
      "cell_type": "markdown",
      "source": [
        "### Wget"
      ],
      "metadata": {
        "id": "OIwg2aVMXezx"
      }
    },
    {
      "cell_type": "code",
      "source": [
        "## 08525\n",
        "\n",
        "\n",
        "\n",
        "\n",
        "## 26526\n",
        "\n",
        "\n",
        "\n"
      ],
      "metadata": {
        "id": "49DmjP0iXg_9"
      },
      "execution_count": null,
      "outputs": []
    },
    {
      "cell_type": "markdown",
      "metadata": {
        "id": "XZJf0edidu-3"
      },
      "source": [
        "<a name=\"s3\"></a>\n",
        "# 2. Generate a HDR file\n",
        "\n",
        "Generate HDR files for each of the GRDs, so they can be GIS-compatible and converted to geotiffs."
      ]
    },
    {
      "cell_type": "code",
      "execution_count": null,
      "metadata": {
        "collapsed": true,
        "id": "UXbgRCOBDlFg",
        "colab": {
          "base_uri": "https://localhost:8080/"
        },
        "outputId": "8a8adf5f-18e3-4eba-af62-bad0989b75d0"
      },
      "outputs": [
        {
          "output_type": "stream",
          "name": "stdout",
          "text": [
            "UAVSAR.py is written by Nathan Thomas (nmthomas28@gmail.com, @DrNASApants)  formerly of the Aberystwyth University Earth Observation and Ecosystems Dynamics Laboratory (@AU_EarthObs) as part of a visiting research program at NASA JPL. Ammended to process UAVSAR InSAR pair data by Yang Zheng (April 2015).\n",
            "Use '-h' for help and required input parameters\n",
            "\n",
            "usage: BuildUAVSARhdr.py [-h] [-i INPUT] [-r UAVSAR] [-p POLARIZATION]\n",
            "\n",
            "options:\n",
            "  -h, --help            show this help message and exit\n",
            "  -i INPUT, --input INPUT\n",
            "                        Specify the input UAVSAR ann file\n",
            "  -r UAVSAR, --uavsar UAVSAR\n",
            "                        Specify the input UAVSAR radar file\n",
            "  -p POLARIZATION, --polarization POLARIZATION\n",
            "                        Specify the input UAVSAR polarization in UPPERCASE (i.e HHHV, HHHH, VVVV,\n",
            "                        AMP1, AMP2, COR, UNW, HGT, INT)\n"
          ]
        }
      ],
      "source": [
        "!python3 \"/content/BuildUAVSARhdr.py/BuildUAVSARhdr.py\" -h"
      ]
    },
    {
      "cell_type": "code",
      "source": [
        "def run_hdr_script(directory, polarization):\n",
        "    file_data = []\n",
        "\n",
        "    # Find GRD and annotation files\n",
        "    for filename in os.listdir(directory):\n",
        "        if filename.endswith('.grd'):\n",
        "            grd_file = filename\n",
        "            annotation_file = filename.replace(f'_L090{polarization}_', '_L090_').replace('.grd', '.ann')\n",
        "            file_data.append((grd_file, annotation_file))\n",
        "        elif filename.endswith('.inc'):\n",
        "            grd_file = filename\n",
        "            annotation_file = filename.replace(f'_L090{polarization}_', '_L090_').replace('.inc', '.ann')\n",
        "            file_data.append((grd_file, annotation_file))\n",
        "\n",
        "    # Run HDR script for each file\n",
        "    for grd_file, annotation_file in file_data:\n",
        "        !python3 \"/content/BuildUAVSARhdr.py/BuildUAVSARhdr.py\" -i {annotation_file} -r {grd_file} -p {polarization}\n",
        "\n",
        "# Run HDR script for HVHV polarization\n",
        "run_hdr_script('./', 'HVHV')\n",
        "\n",
        "# Run HDR script for HHHH polarization\n",
        "run_hdr_script('./', 'HHHH')\n",
        "\n",
        "# Run HDR script for incidence angle files (assuming .inc files)\n",
        "run_hdr_script('./', 'HVHV')  # You can put whichever polarization, using HVHV as a placeholder here"
      ],
      "metadata": {
        "id": "j_nM4mAJzWBt",
        "colab": {
          "base_uri": "https://localhost:8080/"
        },
        "outputId": "b089841c-496c-4421-de23-42bba7c5c5e5"
      },
      "execution_count": null,
      "outputs": [
        {
          "output_type": "stream",
          "name": "stdout",
          "text": [
            "UAVSAR.py is written by Nathan Thomas (nmthomas28@gmail.com, @DrNASApants)  formerly of the Aberystwyth University Earth Observation and Ecosystems Dynamics Laboratory (@AU_EarthObs) as part of a visiting research program at NASA JPL. Ammended to process UAVSAR InSAR pair data by Yang Zheng (April 2015).\n",
            "Use '-h' for help and required input parameters\n",
            "\n",
            "UPPER LEFT LAT =  34.4433\n",
            "UPPER LEFT LONG =  -119.2884\n",
            "SAMPLES = 4136\n",
            "Lines = 32329\n",
            "PIXEL SIZE =  0.0001\n",
            "DATATYPE =  4\n",
            "SanAnd_08525_14158_003_141023_L090HVHV_CG_138A_02.grd.hdr\n",
            "Writing output HDR file...\n",
            "Output HDR file = SanAnd_08525_14158_003_141023_L090HVHV_CG_138A_02.grd.hdr\n",
            "\n",
            "Thank you for using UAVSAR.py\n",
            "\n",
            "UAVSAR.py is written by Nathan Thomas (nmthomas28@gmail.com, @DrNASApants)  formerly of the Aberystwyth University Earth Observation and Ecosystems Dynamics Laboratory (@AU_EarthObs) as part of a visiting research program at NASA JPL. Ammended to process UAVSAR InSAR pair data by Yang Zheng (April 2015).\n",
            "Use '-h' for help and required input parameters\n",
            "\n",
            "UPPER LEFT LAT =  34.443200000000004\n",
            "UPPER LEFT LONG =  -119.2896\n",
            "SAMPLES = 4135\n",
            "Lines = 32317\n",
            "PIXEL SIZE =  0.0001\n",
            "DATATYPE =  4\n",
            "SanAnd_08525_17122_003_171102_L090HVHV_CG_138A_02.grd.hdr\n",
            "Writing output HDR file...\n",
            "Output HDR file = SanAnd_08525_17122_003_171102_L090HVHV_CG_138A_02.grd.hdr\n",
            "\n",
            "Thank you for using UAVSAR.py\n",
            "\n",
            "UAVSAR.py is written by Nathan Thomas (nmthomas28@gmail.com, @DrNASApants)  formerly of the Aberystwyth University Earth Observation and Ecosystems Dynamics Laboratory (@AU_EarthObs) as part of a visiting research program at NASA JPL. Ammended to process UAVSAR InSAR pair data by Yang Zheng (April 2015).\n",
            "Use '-h' for help and required input parameters\n",
            "\n",
            "Traceback (most recent call last):\n",
            "  File \"/content/BuildUAVSARhdr.py/BuildUAVSARhdr.py\", line 127, in <module>\n",
            "    main()\n",
            "  File \"/content/BuildUAVSARhdr.py/BuildUAVSARhdr.py\", line 123, in main\n",
            "    genHDRfromTXT(args)\n",
            "  File \"/content/BuildUAVSARhdr.py/BuildUAVSARhdr.py\", line 31, in genHDRfromTXT\n",
            "    annFile = open(file, 'r')\n",
            "FileNotFoundError: [Errno 2] No such file or directory: 'SanAnd_26526_14092_007_140624_L090HHHH_CG_138A_02.ann'\n",
            "UAVSAR.py is written by Nathan Thomas (nmthomas28@gmail.com, @DrNASApants)  formerly of the Aberystwyth University Earth Observation and Ecosystems Dynamics Laboratory (@AU_EarthObs) as part of a visiting research program at NASA JPL. Ammended to process UAVSAR InSAR pair data by Yang Zheng (April 2015).\n",
            "Use '-h' for help and required input parameters\n",
            "\n",
            "Traceback (most recent call last):\n",
            "  File \"/content/BuildUAVSARhdr.py/BuildUAVSARhdr.py\", line 127, in <module>\n",
            "    main()\n",
            "  File \"/content/BuildUAVSARhdr.py/BuildUAVSARhdr.py\", line 123, in main\n",
            "    genHDRfromTXT(args)\n",
            "  File \"/content/BuildUAVSARhdr.py/BuildUAVSARhdr.py\", line 31, in genHDRfromTXT\n",
            "    annFile = open(file, 'r')\n",
            "FileNotFoundError: [Errno 2] No such file or directory: 'SanAnd_26526_17122_004_171102_L090HHHH_CG_138A_02.ann'\n",
            "UAVSAR.py is written by Nathan Thomas (nmthomas28@gmail.com, @DrNASApants)  formerly of the Aberystwyth University Earth Observation and Ecosystems Dynamics Laboratory (@AU_EarthObs) as part of a visiting research program at NASA JPL. Ammended to process UAVSAR InSAR pair data by Yang Zheng (April 2015).\n",
            "Use '-h' for help and required input parameters\n",
            "\n",
            "UPPER LEFT LAT =  34.5572\n",
            "UPPER LEFT LONG =  -119.3376\n",
            "SAMPLES = 5128\n",
            "Lines = 32857\n",
            "PIXEL SIZE =  0.0001\n",
            "DATATYPE =  4\n",
            "SanAnd_26526_17122_004_171102_L090HVHV_CG_138A_02.grd.hdr\n",
            "Writing output HDR file...\n",
            "Output HDR file = SanAnd_26526_17122_004_171102_L090HVHV_CG_138A_02.grd.hdr\n",
            "\n",
            "Thank you for using UAVSAR.py\n",
            "\n",
            "UAVSAR.py is written by Nathan Thomas (nmthomas28@gmail.com, @DrNASApants)  formerly of the Aberystwyth University Earth Observation and Ecosystems Dynamics Laboratory (@AU_EarthObs) as part of a visiting research program at NASA JPL. Ammended to process UAVSAR InSAR pair data by Yang Zheng (April 2015).\n",
            "Use '-h' for help and required input parameters\n",
            "\n",
            "Traceback (most recent call last):\n",
            "  File \"/content/BuildUAVSARhdr.py/BuildUAVSARhdr.py\", line 127, in <module>\n",
            "    main()\n",
            "  File \"/content/BuildUAVSARhdr.py/BuildUAVSARhdr.py\", line 123, in main\n",
            "    genHDRfromTXT(args)\n",
            "  File \"/content/BuildUAVSARhdr.py/BuildUAVSARhdr.py\", line 31, in genHDRfromTXT\n",
            "    annFile = open(file, 'r')\n",
            "FileNotFoundError: [Errno 2] No such file or directory: 'SanAnd_08525_14158_003_141023_L090HHHH_CG_138A_02.ann'\n",
            "UAVSAR.py is written by Nathan Thomas (nmthomas28@gmail.com, @DrNASApants)  formerly of the Aberystwyth University Earth Observation and Ecosystems Dynamics Laboratory (@AU_EarthObs) as part of a visiting research program at NASA JPL. Ammended to process UAVSAR InSAR pair data by Yang Zheng (April 2015).\n",
            "Use '-h' for help and required input parameters\n",
            "\n",
            "Traceback (most recent call last):\n",
            "  File \"/content/BuildUAVSARhdr.py/BuildUAVSARhdr.py\", line 127, in <module>\n",
            "    main()\n",
            "  File \"/content/BuildUAVSARhdr.py/BuildUAVSARhdr.py\", line 123, in main\n",
            "    genHDRfromTXT(args)\n",
            "  File \"/content/BuildUAVSARhdr.py/BuildUAVSARhdr.py\", line 31, in genHDRfromTXT\n",
            "    annFile = open(file, 'r')\n",
            "FileNotFoundError: [Errno 2] No such file or directory: 'SanAnd_08525_17122_003_171102_L090HHHH_CG_138A_02.ann'\n",
            "UAVSAR.py is written by Nathan Thomas (nmthomas28@gmail.com, @DrNASApants)  formerly of the Aberystwyth University Earth Observation and Ecosystems Dynamics Laboratory (@AU_EarthObs) as part of a visiting research program at NASA JPL. Ammended to process UAVSAR InSAR pair data by Yang Zheng (April 2015).\n",
            "Use '-h' for help and required input parameters\n",
            "\n",
            "UPPER LEFT LAT =  34.557\n",
            "UPPER LEFT LONG =  -119.3376\n",
            "SAMPLES = 5126\n",
            "Lines = 32833\n",
            "PIXEL SIZE =  0.0001\n",
            "DATATYPE =  4\n",
            "SanAnd_26526_14092_007_140624_L090HVHV_CG_138A_02.grd.hdr\n",
            "Writing output HDR file...\n",
            "Output HDR file = SanAnd_26526_14092_007_140624_L090HVHV_CG_138A_02.grd.hdr\n",
            "\n",
            "Thank you for using UAVSAR.py\n",
            "\n",
            "UAVSAR.py is written by Nathan Thomas (nmthomas28@gmail.com, @DrNASApants)  formerly of the Aberystwyth University Earth Observation and Ecosystems Dynamics Laboratory (@AU_EarthObs) as part of a visiting research program at NASA JPL. Ammended to process UAVSAR InSAR pair data by Yang Zheng (April 2015).\n",
            "Use '-h' for help and required input parameters\n",
            "\n",
            "Traceback (most recent call last):\n",
            "  File \"/content/BuildUAVSARhdr.py/BuildUAVSARhdr.py\", line 127, in <module>\n",
            "    main()\n",
            "  File \"/content/BuildUAVSARhdr.py/BuildUAVSARhdr.py\", line 123, in main\n",
            "    genHDRfromTXT(args)\n",
            "  File \"/content/BuildUAVSARhdr.py/BuildUAVSARhdr.py\", line 31, in genHDRfromTXT\n",
            "    annFile = open(file, 'r')\n",
            "FileNotFoundError: [Errno 2] No such file or directory: 'SanAnd_08525_14158_003_141023_L090HVHV_CG_138A_02.ann'\n",
            "UAVSAR.py is written by Nathan Thomas (nmthomas28@gmail.com, @DrNASApants)  formerly of the Aberystwyth University Earth Observation and Ecosystems Dynamics Laboratory (@AU_EarthObs) as part of a visiting research program at NASA JPL. Ammended to process UAVSAR InSAR pair data by Yang Zheng (April 2015).\n",
            "Use '-h' for help and required input parameters\n",
            "\n",
            "Traceback (most recent call last):\n",
            "  File \"/content/BuildUAVSARhdr.py/BuildUAVSARhdr.py\", line 127, in <module>\n",
            "    main()\n",
            "  File \"/content/BuildUAVSARhdr.py/BuildUAVSARhdr.py\", line 123, in main\n",
            "    genHDRfromTXT(args)\n",
            "  File \"/content/BuildUAVSARhdr.py/BuildUAVSARhdr.py\", line 31, in genHDRfromTXT\n",
            "    annFile = open(file, 'r')\n",
            "FileNotFoundError: [Errno 2] No such file or directory: 'SanAnd_08525_17122_003_171102_L090HVHV_CG_138A_02.ann'\n",
            "UAVSAR.py is written by Nathan Thomas (nmthomas28@gmail.com, @DrNASApants)  formerly of the Aberystwyth University Earth Observation and Ecosystems Dynamics Laboratory (@AU_EarthObs) as part of a visiting research program at NASA JPL. Ammended to process UAVSAR InSAR pair data by Yang Zheng (April 2015).\n",
            "Use '-h' for help and required input parameters\n",
            "\n",
            "UPPER LEFT LAT =  34.557\n",
            "UPPER LEFT LONG =  -119.3376\n",
            "SAMPLES = 5126\n",
            "Lines = 32833\n",
            "PIXEL SIZE =  0.0001\n",
            "DATATYPE =  4\n",
            "SanAnd_26526_14092_007_140624_L090HHHH_CG_138A_02.grd.hdr\n",
            "Writing output HDR file...\n",
            "Output HDR file = SanAnd_26526_14092_007_140624_L090HHHH_CG_138A_02.grd.hdr\n",
            "\n",
            "Thank you for using UAVSAR.py\n",
            "\n",
            "UAVSAR.py is written by Nathan Thomas (nmthomas28@gmail.com, @DrNASApants)  formerly of the Aberystwyth University Earth Observation and Ecosystems Dynamics Laboratory (@AU_EarthObs) as part of a visiting research program at NASA JPL. Ammended to process UAVSAR InSAR pair data by Yang Zheng (April 2015).\n",
            "Use '-h' for help and required input parameters\n",
            "\n",
            "UPPER LEFT LAT =  34.5572\n",
            "UPPER LEFT LONG =  -119.3376\n",
            "SAMPLES = 5128\n",
            "Lines = 32857\n",
            "PIXEL SIZE =  0.0001\n",
            "DATATYPE =  4\n",
            "SanAnd_26526_17122_004_171102_L090HHHH_CG_138A_02.grd.hdr\n",
            "Writing output HDR file...\n",
            "Output HDR file = SanAnd_26526_17122_004_171102_L090HHHH_CG_138A_02.grd.hdr\n",
            "\n",
            "Thank you for using UAVSAR.py\n",
            "\n",
            "UAVSAR.py is written by Nathan Thomas (nmthomas28@gmail.com, @DrNASApants)  formerly of the Aberystwyth University Earth Observation and Ecosystems Dynamics Laboratory (@AU_EarthObs) as part of a visiting research program at NASA JPL. Ammended to process UAVSAR InSAR pair data by Yang Zheng (April 2015).\n",
            "Use '-h' for help and required input parameters\n",
            "\n",
            "Traceback (most recent call last):\n",
            "  File \"/content/BuildUAVSARhdr.py/BuildUAVSARhdr.py\", line 127, in <module>\n",
            "    main()\n",
            "  File \"/content/BuildUAVSARhdr.py/BuildUAVSARhdr.py\", line 123, in main\n",
            "    genHDRfromTXT(args)\n",
            "  File \"/content/BuildUAVSARhdr.py/BuildUAVSARhdr.py\", line 31, in genHDRfromTXT\n",
            "    annFile = open(file, 'r')\n",
            "FileNotFoundError: [Errno 2] No such file or directory: 'SanAnd_26526_17122_004_171102_L090HVHV_CG_138A_02.ann'\n",
            "UAVSAR.py is written by Nathan Thomas (nmthomas28@gmail.com, @DrNASApants)  formerly of the Aberystwyth University Earth Observation and Ecosystems Dynamics Laboratory (@AU_EarthObs) as part of a visiting research program at NASA JPL. Ammended to process UAVSAR InSAR pair data by Yang Zheng (April 2015).\n",
            "Use '-h' for help and required input parameters\n",
            "\n",
            "UPPER LEFT LAT =  34.4433\n",
            "UPPER LEFT LONG =  -119.2884\n",
            "SAMPLES = 4136\n",
            "Lines = 32329\n",
            "PIXEL SIZE =  0.0001\n",
            "DATATYPE =  4\n",
            "SanAnd_08525_14158_003_141023_L090HHHH_CG_138A_02.grd.hdr\n",
            "Writing output HDR file...\n",
            "Output HDR file = SanAnd_08525_14158_003_141023_L090HHHH_CG_138A_02.grd.hdr\n",
            "\n",
            "Thank you for using UAVSAR.py\n",
            "\n",
            "UAVSAR.py is written by Nathan Thomas (nmthomas28@gmail.com, @DrNASApants)  formerly of the Aberystwyth University Earth Observation and Ecosystems Dynamics Laboratory (@AU_EarthObs) as part of a visiting research program at NASA JPL. Ammended to process UAVSAR InSAR pair data by Yang Zheng (April 2015).\n",
            "Use '-h' for help and required input parameters\n",
            "\n",
            "UPPER LEFT LAT =  34.443200000000004\n",
            "UPPER LEFT LONG =  -119.2896\n",
            "SAMPLES = 4135\n",
            "Lines = 32317\n",
            "PIXEL SIZE =  0.0001\n",
            "DATATYPE =  4\n",
            "SanAnd_08525_17122_003_171102_L090HHHH_CG_138A_02.grd.hdr\n",
            "Writing output HDR file...\n",
            "Output HDR file = SanAnd_08525_17122_003_171102_L090HHHH_CG_138A_02.grd.hdr\n",
            "\n",
            "Thank you for using UAVSAR.py\n",
            "\n",
            "UAVSAR.py is written by Nathan Thomas (nmthomas28@gmail.com, @DrNASApants)  formerly of the Aberystwyth University Earth Observation and Ecosystems Dynamics Laboratory (@AU_EarthObs) as part of a visiting research program at NASA JPL. Ammended to process UAVSAR InSAR pair data by Yang Zheng (April 2015).\n",
            "Use '-h' for help and required input parameters\n",
            "\n",
            "Traceback (most recent call last):\n",
            "  File \"/content/BuildUAVSARhdr.py/BuildUAVSARhdr.py\", line 127, in <module>\n",
            "    main()\n",
            "  File \"/content/BuildUAVSARhdr.py/BuildUAVSARhdr.py\", line 123, in main\n",
            "    genHDRfromTXT(args)\n",
            "  File \"/content/BuildUAVSARhdr.py/BuildUAVSARhdr.py\", line 31, in genHDRfromTXT\n",
            "    annFile = open(file, 'r')\n",
            "FileNotFoundError: [Errno 2] No such file or directory: 'SanAnd_26526_14092_007_140624_L090HVHV_CG_138A_02.ann'\n",
            "UAVSAR.py is written by Nathan Thomas (nmthomas28@gmail.com, @DrNASApants)  formerly of the Aberystwyth University Earth Observation and Ecosystems Dynamics Laboratory (@AU_EarthObs) as part of a visiting research program at NASA JPL. Ammended to process UAVSAR InSAR pair data by Yang Zheng (April 2015).\n",
            "Use '-h' for help and required input parameters\n",
            "\n",
            "UPPER LEFT LAT =  34.4433\n",
            "UPPER LEFT LONG =  -119.2884\n",
            "SAMPLES = 4136\n",
            "Lines = 32329\n",
            "PIXEL SIZE =  0.0001\n",
            "DATATYPE =  4\n",
            "SanAnd_08525_14158_003_141023_L090HVHV_CG_138A_02.grd.hdr\n",
            "Writing output HDR file...\n",
            "Output HDR file = SanAnd_08525_14158_003_141023_L090HVHV_CG_138A_02.grd.hdr\n",
            "\n",
            "Thank you for using UAVSAR.py\n",
            "\n",
            "UAVSAR.py is written by Nathan Thomas (nmthomas28@gmail.com, @DrNASApants)  formerly of the Aberystwyth University Earth Observation and Ecosystems Dynamics Laboratory (@AU_EarthObs) as part of a visiting research program at NASA JPL. Ammended to process UAVSAR InSAR pair data by Yang Zheng (April 2015).\n",
            "Use '-h' for help and required input parameters\n",
            "\n",
            "UPPER LEFT LAT =  34.443200000000004\n",
            "UPPER LEFT LONG =  -119.2896\n",
            "SAMPLES = 4135\n",
            "Lines = 32317\n",
            "PIXEL SIZE =  0.0001\n",
            "DATATYPE =  4\n",
            "SanAnd_08525_17122_003_171102_L090HVHV_CG_138A_02.grd.hdr\n",
            "Writing output HDR file...\n",
            "Output HDR file = SanAnd_08525_17122_003_171102_L090HVHV_CG_138A_02.grd.hdr\n",
            "\n",
            "Thank you for using UAVSAR.py\n",
            "\n",
            "UAVSAR.py is written by Nathan Thomas (nmthomas28@gmail.com, @DrNASApants)  formerly of the Aberystwyth University Earth Observation and Ecosystems Dynamics Laboratory (@AU_EarthObs) as part of a visiting research program at NASA JPL. Ammended to process UAVSAR InSAR pair data by Yang Zheng (April 2015).\n",
            "Use '-h' for help and required input parameters\n",
            "\n",
            "Traceback (most recent call last):\n",
            "  File \"/content/BuildUAVSARhdr.py/BuildUAVSARhdr.py\", line 127, in <module>\n",
            "    main()\n",
            "  File \"/content/BuildUAVSARhdr.py/BuildUAVSARhdr.py\", line 123, in main\n",
            "    genHDRfromTXT(args)\n",
            "  File \"/content/BuildUAVSARhdr.py/BuildUAVSARhdr.py\", line 31, in genHDRfromTXT\n",
            "    annFile = open(file, 'r')\n",
            "FileNotFoundError: [Errno 2] No such file or directory: 'SanAnd_26526_14092_007_140624_L090HHHH_CG_138A_02.ann'\n",
            "UAVSAR.py is written by Nathan Thomas (nmthomas28@gmail.com, @DrNASApants)  formerly of the Aberystwyth University Earth Observation and Ecosystems Dynamics Laboratory (@AU_EarthObs) as part of a visiting research program at NASA JPL. Ammended to process UAVSAR InSAR pair data by Yang Zheng (April 2015).\n",
            "Use '-h' for help and required input parameters\n",
            "\n",
            "Traceback (most recent call last):\n",
            "  File \"/content/BuildUAVSARhdr.py/BuildUAVSARhdr.py\", line 127, in <module>\n",
            "    main()\n",
            "  File \"/content/BuildUAVSARhdr.py/BuildUAVSARhdr.py\", line 123, in main\n",
            "    genHDRfromTXT(args)\n",
            "  File \"/content/BuildUAVSARhdr.py/BuildUAVSARhdr.py\", line 31, in genHDRfromTXT\n",
            "    annFile = open(file, 'r')\n",
            "FileNotFoundError: [Errno 2] No such file or directory: 'SanAnd_26526_17122_004_171102_L090HHHH_CG_138A_02.ann'\n",
            "UAVSAR.py is written by Nathan Thomas (nmthomas28@gmail.com, @DrNASApants)  formerly of the Aberystwyth University Earth Observation and Ecosystems Dynamics Laboratory (@AU_EarthObs) as part of a visiting research program at NASA JPL. Ammended to process UAVSAR InSAR pair data by Yang Zheng (April 2015).\n",
            "Use '-h' for help and required input parameters\n",
            "\n",
            "UPPER LEFT LAT =  34.5572\n",
            "UPPER LEFT LONG =  -119.3376\n",
            "SAMPLES = 5128\n",
            "Lines = 32857\n",
            "PIXEL SIZE =  0.0001\n",
            "DATATYPE =  4\n",
            "SanAnd_26526_17122_004_171102_L090HVHV_CG_138A_02.grd.hdr\n",
            "Writing output HDR file...\n",
            "Output HDR file = SanAnd_26526_17122_004_171102_L090HVHV_CG_138A_02.grd.hdr\n",
            "\n",
            "Thank you for using UAVSAR.py\n",
            "\n",
            "UAVSAR.py is written by Nathan Thomas (nmthomas28@gmail.com, @DrNASApants)  formerly of the Aberystwyth University Earth Observation and Ecosystems Dynamics Laboratory (@AU_EarthObs) as part of a visiting research program at NASA JPL. Ammended to process UAVSAR InSAR pair data by Yang Zheng (April 2015).\n",
            "Use '-h' for help and required input parameters\n",
            "\n",
            "Traceback (most recent call last):\n",
            "  File \"/content/BuildUAVSARhdr.py/BuildUAVSARhdr.py\", line 127, in <module>\n",
            "    main()\n",
            "  File \"/content/BuildUAVSARhdr.py/BuildUAVSARhdr.py\", line 123, in main\n",
            "    genHDRfromTXT(args)\n",
            "  File \"/content/BuildUAVSARhdr.py/BuildUAVSARhdr.py\", line 31, in genHDRfromTXT\n",
            "    annFile = open(file, 'r')\n",
            "FileNotFoundError: [Errno 2] No such file or directory: 'SanAnd_08525_14158_003_141023_L090HHHH_CG_138A_02.ann'\n",
            "UAVSAR.py is written by Nathan Thomas (nmthomas28@gmail.com, @DrNASApants)  formerly of the Aberystwyth University Earth Observation and Ecosystems Dynamics Laboratory (@AU_EarthObs) as part of a visiting research program at NASA JPL. Ammended to process UAVSAR InSAR pair data by Yang Zheng (April 2015).\n",
            "Use '-h' for help and required input parameters\n",
            "\n",
            "Traceback (most recent call last):\n",
            "  File \"/content/BuildUAVSARhdr.py/BuildUAVSARhdr.py\", line 127, in <module>\n",
            "    main()\n",
            "  File \"/content/BuildUAVSARhdr.py/BuildUAVSARhdr.py\", line 123, in main\n",
            "    genHDRfromTXT(args)\n",
            "  File \"/content/BuildUAVSARhdr.py/BuildUAVSARhdr.py\", line 31, in genHDRfromTXT\n",
            "    annFile = open(file, 'r')\n",
            "FileNotFoundError: [Errno 2] No such file or directory: 'SanAnd_08525_17122_003_171102_L090HHHH_CG_138A_02.ann'\n",
            "UAVSAR.py is written by Nathan Thomas (nmthomas28@gmail.com, @DrNASApants)  formerly of the Aberystwyth University Earth Observation and Ecosystems Dynamics Laboratory (@AU_EarthObs) as part of a visiting research program at NASA JPL. Ammended to process UAVSAR InSAR pair data by Yang Zheng (April 2015).\n",
            "Use '-h' for help and required input parameters\n",
            "\n",
            "UPPER LEFT LAT =  34.557\n",
            "UPPER LEFT LONG =  -119.3376\n",
            "SAMPLES = 5126\n",
            "Lines = 32833\n",
            "PIXEL SIZE =  0.0001\n",
            "DATATYPE =  4\n",
            "SanAnd_26526_14092_007_140624_L090HVHV_CG_138A_02.grd.hdr\n",
            "Writing output HDR file...\n",
            "Output HDR file = SanAnd_26526_14092_007_140624_L090HVHV_CG_138A_02.grd.hdr\n",
            "\n",
            "Thank you for using UAVSAR.py\n",
            "\n"
          ]
        }
      ]
    },
    {
      "cell_type": "markdown",
      "metadata": {
        "id": "V7Q5imsiuVWJ"
      },
      "source": [
        "<a name=\"s5\"></a>\n",
        "# 4. Crop the data and export subset to geotiff"
      ]
    },
    {
      "cell_type": "code",
      "execution_count": null,
      "metadata": {
        "id": "mEf6FY1ta2QL"
      },
      "outputs": [],
      "source": [
        "# Define input directory and output directory\n",
        "input_directory = './' # Directory containing GRD and INC files\n",
        "output_directory = './'  # Directory to save processed files\n",
        "\n",
        "# Define extent and projection details\n",
        "# La Tuna Fire\n",
        "upper_left_x = 373624.5024220281047747\n",
        "upper_left_y = 3780585.1359808142296970\n",
        "lower_right_x = 387664.5024220281047747\n",
        "lower_right_y = 3791835.1359808142296970\n",
        "\n",
        "# # Station Fire / Fish / Bobcat Tuna\n",
        "# upper_left_x =\n",
        "# upper_left_y =\n",
        "# lower_right_x =\n",
        "# lower_right_y =\n",
        "\n",
        "#-118.4161222288687014,34.1033783674574380,-117.5825888995843940,34.3852949522427522\n",
        "\n",
        "# # Woolsey\n",
        "# upper_left_x =\n",
        "# upper_left_y =\n",
        "# lower_right_x =\n",
        "# lower_right_y =\n",
        "\n",
        "window = (upper_left_x, upper_left_y, lower_right_x, lower_right_y)\n",
        "\n",
        "projection = 'EPSG:26911' # reprojecting here to be in meters to match the Landsat data that will be reprojected in meters."
      ]
    },
    {
      "cell_type": "code",
      "execution_count": null,
      "metadata": {
        "id": "n5sWAPaNbv57"
      },
      "outputs": [],
      "source": [
        "# Process GRD files\n",
        "process_grd_files(input_directory, output_directory, window, projection)"
      ]
    },
    {
      "cell_type": "code",
      "execution_count": null,
      "metadata": {
        "id": "Gc4bKIO3q6E3"
      },
      "outputs": [],
      "source": [
        "# Process incidence angle files\n",
        "process_inc_files(input_directory, output_directory)"
      ]
    },
    {
      "cell_type": "markdown",
      "metadata": {
        "id": "HAVd0MPZdqcR"
      },
      "source": [
        "# 5. Incidence Angle Corrections/Masking\n",
        "\n",
        "Converting sigma0 to gamma0 should remove most of the range/incidence angle dependency.\n",
        "\n",
        "gamma0 = sigma0 / cos(incidence angle)"
      ]
    },
    {
      "cell_type": "code",
      "execution_count": null,
      "metadata": {
        "id": "cvCib1hiiYGb"
      },
      "outputs": [],
      "source": [
        "mask_and_save(input_directory, output_directory)"
      ]
    },
    {
      "cell_type": "code",
      "source": [
        "## Pre-Fire\n",
        "# Open the two input rasters using rasterio\n",
        "with rio.open('SanAnd_08525_14158_003_141023_L090HVHV_02_masked.tif') as src1:\n",
        "    arr1 = src1.read(1, masked=True)\n",
        "    meta1 = src1.meta\n",
        "\n",
        "with rio.open('SanAnd_26526_14092_007_140624_L090HVHV_02_masked.tif') as src2:\n",
        "    arr2 = src2.read(1, masked=True)\n",
        "    meta2 = src2.meta"
      ],
      "metadata": {
        "id": "V5o4jCW9bGe2"
      },
      "execution_count": null,
      "outputs": []
    },
    {
      "cell_type": "code",
      "source": [
        "cmap = 'Greys_r'\n",
        "fig, (ax1, ax2) = plt.subplots(1,2, figsize=(25,10))\n",
        "\n",
        "vmin_HV=0\n",
        "vmax_HV=0.1\n",
        "\n",
        "# 2014 SanAnd_08525\n",
        "plot = ax1.imshow(arr1.squeeze(),vmin=vmin_HV, vmax=vmax_HV, cmap=cmap)\n",
        "ax1.set_title('Incidence Angle Masked - Heading 1')\n",
        "fig.colorbar(plot, ax=ax1, shrink=0.5)\n",
        "\n",
        "# 2014 SanAnd_26526\n",
        "plot = ax2.imshow(arr2.squeeze(), vmin=vmin_HV, vmax=vmax_HV,cmap=cmap)\n",
        "ax2.set_title('Incidence Angle Masked - Heading 2')\n",
        "fig.colorbar(plot, ax=ax2, shrink=0.5)"
      ],
      "metadata": {
        "id": "T-rBpRabbUhO"
      },
      "execution_count": null,
      "outputs": []
    },
    {
      "cell_type": "code",
      "execution_count": null,
      "metadata": {
        "id": "V-eJG5BWkT3e"
      },
      "outputs": [],
      "source": [
        "# Merge the two arrays using numpy's maximum function to take the maximum value at each pixel\n",
        "merged_arr_prefire = np.nanmax((arr1, arr2), axis=0)\n",
        "\n",
        "## Post-Fire\n",
        "# Open the two input rasters using rasterio\n",
        "with rio.open('SanAnd_26526_17122_004_171102_L090HVHV_02_masked.tif') as src1:\n",
        "    arr1 = src1.read(1, masked=True)\n",
        "    meta1 = src1.meta\n",
        "\n",
        "with rio.open('SanAnd_08525_17122_003_171102_L090HVHV_02_masked.tif') as src2:\n",
        "    arr2 = src2.read(1, masked=True)\n",
        "    meta2 = src2.meta\n",
        "\n",
        "# Merge the two arrays using numpy's maximum function to take the maximum value at each pixel\n",
        "merged_arr_postfire = np.nanmax((arr1, arr2), axis=0)"
      ]
    },
    {
      "cell_type": "code",
      "source": [
        "fig, axs = plt.subplots(figsize=(5,5))\n",
        "plt.imshow(merged_arr_prefire, vmin=0, vmax=0.1, cmap=\"Greys_r\")\n",
        "plt.title('Pre-Fire merged opposing headings')"
      ],
      "metadata": {
        "id": "cmaOKrW2Hcab"
      },
      "execution_count": null,
      "outputs": []
    },
    {
      "cell_type": "code",
      "execution_count": null,
      "metadata": {
        "id": "d-7CpKGqksOk"
      },
      "outputs": [],
      "source": [
        "fig, axs = plt.subplots(figsize=(5,5))\n",
        "plt.imshow(merged_arr_postfire, vmin=0, vmax=0.1, cmap=\"Greys_r\")\n",
        "plt.title('Post-Fire merged opposing headings')"
      ]
    },
    {
      "cell_type": "code",
      "source": [
        "plt.figure(figsize=(3, 3))\n",
        "plt.hist(merged_arr_postfire.flatten(), range = [-0.25, 1.5], bins=200, alpha=0.7, color='blue')\n",
        "plt.hist(merged_arr_prefire.flatten(), range = [-0.25, 1.5], bins=200, alpha=0.7, color='red')\n",
        "plt.xlabel('Pixel Values')\n",
        "plt.ylabel('Frequency')\n",
        "plt.title('Histogram of NISAR Sim')\n",
        "plt.show()"
      ],
      "metadata": {
        "id": "jpNjbLqdIecv"
      },
      "execution_count": null,
      "outputs": []
    },
    {
      "cell_type": "markdown",
      "metadata": {
        "id": "m2P63MZbjNYy"
      },
      "source": [
        "# Lee Filter"
      ]
    },
    {
      "cell_type": "code",
      "execution_count": null,
      "metadata": {
        "id": "wqoA_jMowTtQ"
      },
      "outputs": [],
      "source": [
        "lee_merged_arr_prefire = enhanced_lee(merged_arr_prefire, 5, 1)\n",
        "lee_merged_arr_postfire = enhanced_lee(merged_arr_postfire, 5, 1)"
      ]
    },
    {
      "cell_type": "markdown",
      "source": [
        "## Data Visualization\n",
        "\n",
        "With the data already loaded in, can do some visualization and look at a fire severity classification (and export)."
      ],
      "metadata": {
        "id": "BHchb8mzMlzc"
      }
    },
    {
      "cell_type": "code",
      "source": [
        "#@title Plot HV Change Detection\n",
        "# Find the HV log ratio between 2014 and 2017 UAVSAR acquisitions\n",
        "HV_log = np.log(np.divide(lee_merged_arr_prefire, lee_merged_arr_postfire))\n",
        "# Find the HV ratio between 2014 and 2017 UAVSAR acquisitions\n",
        "HV_ratio = np.divide(lee_merged_arr_prefire, lee_merged_arr_postfire)\n",
        "# Find the HV difference\n",
        "HV_diff = np.subtract(lee_merged_arr_prefire, lee_merged_arr_postfire)\n",
        "\n",
        "fig, axs = plt.subplots(1,3,figsize=(30,10))\n",
        "fig.suptitle('HV Change Detection')\n",
        "\n",
        "HV_log_plot = axs[0].imshow(HV_log, vmin=0, vmax=2, cmap=\"Spectral_r\")\n",
        "fig.colorbar(HV_log_plot, ax=axs[0], shrink=0.5)\n",
        "axs[0].set_title('HV Log Ratio')\n",
        "\n",
        "HV_ratio_plot = axs[1].imshow(HV_ratio, vmin=0, vmax=2, cmap=\"Spectral_r\")\n",
        "fig.colorbar(HV_ratio_plot, ax=axs[1], shrink=0.5)\n",
        "axs[1].set_title('HV Ratio')\n",
        "\n",
        "HV_diff_plot = axs[2].imshow(HV_diff, vmin=-0.005, vmax=0.05, cmap=\"Spectral_r\")\n",
        "fig.colorbar(HV_diff_plot, ax=axs[2], shrink=0.5)\n",
        "axs[2].set_title('HV Diff')"
      ],
      "metadata": {
        "cellView": "form",
        "id": "y6orDbuaM0Nl"
      },
      "execution_count": null,
      "outputs": []
    },
    {
      "cell_type": "markdown",
      "source": [
        "Otsu Thresholding for Burned / Not Burned"
      ],
      "metadata": {
        "id": "rzdEiQy-M4Js"
      }
    },
    {
      "cell_type": "code",
      "source": [
        "# Extract cleaned array excluding NaN and infinity values\n",
        "out_image = HV_log.copy()\n",
        "cleaned_array = out_image[~np.logical_or(np.isnan(out_image), np.isinf(out_image))]\n",
        "# Perform Otsu's thresholding on the cleaned array\n",
        "threshold_value = filters.threshold_otsu(cleaned_array)\n",
        "\n",
        "HV_log = out_image.squeeze()\n",
        "# Apply the threshold to the original array\n",
        "thresholded_image = HV_log > threshold_value\n",
        "\n",
        "# Plotting\n",
        "fig, axes = plt.subplots(1, 2, figsize=(12, 5))\n",
        "\n",
        "# Plot the histogram\n",
        "axes[0].hist(cleaned_array.ravel(), bins=500, color='skyblue', alpha=0.7)\n",
        "axes[0].axvline(x=threshold_value, color='red', linestyle='--', label=f'Threshold: {threshold_value}')\n",
        "axes[0].set_title('Value Histogram with Otsu Threshold')\n",
        "axes[0].set_xlabel('Pixel Value')\n",
        "axes[0].set_ylabel('Frequency')\n",
        "axes[0].set_xlim(-3, 3)  # Set x-axis limits\n",
        "axes[0].legend()\n",
        "\n",
        "# Plot the thresholded image\n",
        "axes[1].imshow(thresholded_image)#, cmap='YlGn_r')\n",
        "axes[1].set_title('Thresholded Image (Otsu Thresholding)')\n",
        "\n",
        "plt.tight_layout()\n",
        "plt.show()"
      ],
      "metadata": {
        "id": "wjZxbQvT_pgG"
      },
      "execution_count": null,
      "outputs": []
    },
    {
      "cell_type": "markdown",
      "source": [
        "Thresholding for High Severity\n",
        "\n",
        "Options:\n",
        "\n",
        "1. Otsu thresholding on just the burned distribution\n",
        "2. Select a number of standard deviations\n",
        "3. Find a percentile (i.e. 90th of burned)"
      ],
      "metadata": {
        "id": "j0lmhL6zNDeZ"
      }
    },
    {
      "cell_type": "code",
      "source": [
        "percentile = 90\n",
        "stddev_number = 2"
      ],
      "metadata": {
        "id": "cvaMFotYNE_t"
      },
      "execution_count": null,
      "outputs": []
    },
    {
      "cell_type": "code",
      "source": [
        "#@title Thresholding options\n",
        "\n",
        "data = cleaned_array\n",
        "\n",
        "# Find the initial threshold using Otsu's method\n",
        "initial_threshold = filters.threshold_otsu(data)\n",
        "\n",
        "# Mask out the lower distribution by setting values below the initial threshold to NaN\n",
        "data_low_masked = np.where(data < initial_threshold, np.nan, data)\n",
        "\n",
        "# Option 1: Apply Otsu's method to the higher distribution (masked)\n",
        "higher_distribution = data_low_masked[~np.isnan(data_low_masked)]\n",
        "higher_threshold = filters.threshold_otsu(higher_distribution)\n",
        "\n",
        "# Option 2: Calculate high severity threshold based on standard deviations\n",
        "high_severity_values = HV_log[HV_log > initial_threshold]\n",
        "num_std_deviations = stddev_number  # set number of stddev\n",
        "high_severity_threshold_std = np.mean(high_severity_values) + num_std_deviations * np.std(high_severity_values)\n",
        "\n",
        "# Option 3: Calculate high severity threshold as the 90th percentile above the initial threshold\n",
        "percentile_90th = np.percentile(higher_distribution, percentile)\n",
        "high_severity_threshold_percentile = percentile_90th\n",
        "\n",
        "# Plotting\n",
        "plt.figure(figsize=(18, 5))\n",
        "\n",
        "# Plot for Otsu scenario\n",
        "plt.subplot(1, 3, 1)\n",
        "plt.hist(data.ravel(), bins=50, color='skyblue', alpha=0.7)\n",
        "plt.axvline(x=initial_threshold, color='red', linestyle='--', label=f'Initial Otsu Burned / Not Burned Threshold: {initial_threshold}')\n",
        "plt.axvline(x=higher_threshold, color='blue', linestyle='--', label=f'Otsu on Burned values for High Severity Threshold: {higher_threshold}')\n",
        "plt.title('Otsu Threshold Scenario')\n",
        "plt.xlabel('Value')\n",
        "plt.ylabel('Frequency')\n",
        "plt.legend()\n",
        "\n",
        "# Plot for Standard Deviation scenario\n",
        "plt.subplot(1, 3, 2)\n",
        "plt.hist(data.ravel(), bins=50, color='skyblue', alpha=0.7)\n",
        "plt.axvline(x=initial_threshold, color='red', linestyle='--', label=f'Initial Otsu Burned / Not Burned Threshold: {initial_threshold}')\n",
        "plt.axvline(x=high_severity_threshold_std, color='green', linestyle='--', label=f'Std Dev for High Severity Threshold: {high_severity_threshold_std:.2f}')\n",
        "plt.title('Standard Deviation Threshold Scenario')\n",
        "plt.xlabel('Value')\n",
        "plt.ylabel('Frequency')\n",
        "plt.legend()\n",
        "\n",
        "# Plot for Percentile 90th scenario\n",
        "plt.subplot(1, 3, 3)\n",
        "plt.hist(data.ravel(), bins=50, color='skyblue', alpha=0.7)\n",
        "plt.axvline(x=initial_threshold, color='red', linestyle='--', label=f'Initial Otsu Burned / Not Burned Threshold: {initial_threshold}')\n",
        "plt.axvline(x=high_severity_threshold_percentile, color='purple', linestyle='--', label=f'Percentile 90th for High Severity Threshold: {high_severity_threshold_percentile:.2f}')\n",
        "plt.title('Percentile 90th Threshold Scenario')\n",
        "plt.xlabel('Value')\n",
        "plt.ylabel('Frequency')\n",
        "plt.legend()\n",
        "\n",
        "plt.tight_layout()\n",
        "plt.show()"
      ],
      "metadata": {
        "cellView": "form",
        "id": "iJcCAA6MNNde"
      },
      "execution_count": null,
      "outputs": []
    },
    {
      "cell_type": "code",
      "source": [
        "#@title Resulting fire severity classifications (from thresholding options)\n",
        "\n",
        "# Define your threshold values for each scenario\n",
        "burn_thresh_hv = threshold_value\n",
        "\n",
        "# Copy the HV_log array\n",
        "hv = HV_log.copy()\n",
        "\n",
        "# Create a copy for classifying for each scenario\n",
        "hv_class_otsu = HV_log.copy()\n",
        "hv_class_std = HV_log.copy()\n",
        "hv_class_percentile = HV_log.copy()\n",
        "\n",
        "# Otsu Threshold Scenario\n",
        "severity_thresh_hv = higher_threshold\n",
        "\n",
        "hv_class_otsu[hv > severity_thresh_hv] = 30  # High Burn Severity UAVSAR\n",
        "hv_class_otsu[(hv < severity_thresh_hv) & (hv >= burn_thresh_hv)] = 20  # Moderate Burn Severity UAVSAR\n",
        "hv_class_otsu[hv < burn_thresh_hv] = 10  # Unburned UAVSAR\n",
        "hv_class_otsu[hv_class_otsu < 10] = np.nan  # Set remaining scenarios to be ignored\n",
        "\n",
        "# Standard Deviation Threshold Scenario\n",
        "severity_thresh_hv = high_severity_threshold_std\n",
        "\n",
        "hv_class_std[hv > severity_thresh_hv] = 30  # High Burn Severity UAVSAR\n",
        "hv_class_std[(hv < severity_thresh_hv) & (hv >= burn_thresh_hv)] = 20  # Moderate Burn Severity UAVSAR\n",
        "hv_class_std[hv < burn_thresh_hv] = 10  # Unburned UAVSAR\n",
        "hv_class_std[hv_class_std < 10] = np.nan  # Set remaining scenarios to be ignored\n",
        "\n",
        "# Percentile 90th Threshold Scenario\n",
        "severity_thresh_hv = high_severity_threshold_percentile\n",
        "\n",
        "hv_class_percentile[hv > severity_thresh_hv] = 30  # High Burn Severity UAVSAR\n",
        "hv_class_percentile[(hv < severity_thresh_hv) & (hv >= burn_thresh_hv)] = 20  # Moderate Burn Severity UAVSAR\n",
        "hv_class_percentile[hv < burn_thresh_hv] = 10  # Unburned UAVSAR\n",
        "hv_class_percentile[hv_class_percentile < 10] = np.nan  # Set remaining scenarios to be ignored\n",
        "\n",
        "\n",
        "cmap = ListedColormap([\"green\", \"yellow\", \"red\"])\n",
        "\n",
        "# Create the plots for each scenario\n",
        "fig, axes = plt.subplots(1, 3, figsize=(18, 6))\n",
        "\n",
        "# Plot for Otsu Threshold Scenario\n",
        "axes[0].imshow(hv_class_otsu, cmap=cmap)\n",
        "axes[0].set_title('Otsu Threshold Scenario')\n",
        "axes[0].set_xlabel('Value')\n",
        "axes[0].set_ylabel('Frequency')\n",
        "\n",
        "# Plot for Standard Deviation Threshold Scenario\n",
        "axes[1].imshow(hv_class_std, cmap=cmap)\n",
        "axes[1].set_title('Standard Deviation Threshold Scenario')\n",
        "axes[1].set_xlabel('Value')\n",
        "axes[1].set_ylabel('Frequency')\n",
        "\n",
        "# Plot for Percentile 90th Threshold Scenario\n",
        "axes[2].imshow(hv_class_percentile, cmap=cmap)\n",
        "axes[2].set_title('Percentile 90th Threshold Scenario')\n",
        "axes[2].set_xlabel('Value')\n",
        "axes[2].set_ylabel('Frequency')\n",
        "\n",
        "plt.tight_layout()\n",
        "plt.show()"
      ],
      "metadata": {
        "cellView": "form",
        "id": "1b18SYQVNRN9"
      },
      "execution_count": null,
      "outputs": []
    },
    {
      "cell_type": "code",
      "source": [
        "# choose the threshold\n",
        "threshold_value = 0.3\n",
        "high_severity_threshold_value = 1.41"
      ],
      "metadata": {
        "id": "bQpnPfhPNSnb"
      },
      "execution_count": null,
      "outputs": []
    },
    {
      "cell_type": "markdown",
      "source": [
        "## Fire Severity Classification (to export)"
      ],
      "metadata": {
        "id": "rGCxaCC5NVFN"
      }
    },
    {
      "cell_type": "code",
      "source": [
        "# Separate into 4 classes depending on threshold\n",
        "burn_thresh_hv = threshold_value\n",
        "severity_thresh_hv = high_severity_threshold_value\n",
        "hv = HV_log.copy()\n",
        "hv_class = HV_log.copy()\n",
        "\n",
        "#High Burn Severity UAVSAR (above high severity threshold)\n",
        "hv_class[hv > severity_thresh_hv] = 30\n",
        "\n",
        "# Moderate Burn Severity UAVSAR (above burned threshold and below high severity threshold)\n",
        "hv_class[(hv < severity_thresh_hv) & (hv >= burn_thresh_hv)] = 20\n",
        "\n",
        "# Unburned UAVSAR (below burned threshold)\n",
        "hv_class[hv < burn_thresh_hv] = 10\n",
        "\n",
        "# Remaining scenarios ignored\n",
        "hv_class[hv_class < 10] = np.nan\n",
        "\n",
        "# Define the colors you want\n",
        "cmap = ListedColormap([\"green\", \"yellow\", \"red\"])\n",
        "\n",
        "# Define a normalization from values -> colors\n",
        "norm = colors.BoundaryNorm([0, 2, 10, 20, 30], 5)\n",
        "f, ax = plt.subplots(figsize=(10, 10))\n",
        "im = ax.imshow(hv_class, cmap = cmap)\n",
        "\n",
        "ep.draw_legend(im, titles=[\"Unburned\", \"Mod burn severity\", \"High burn severity\"], classes=[10, 20, 30])\n",
        "\n",
        "# Add general map title\n",
        "plt.title(\"UAVSAR Fire Burn Severity Map\")\n",
        "plt.tight_layout()"
      ],
      "metadata": {
        "id": "kmXtHZymNaVV"
      },
      "execution_count": null,
      "outputs": []
    },
    {
      "cell_type": "markdown",
      "source": [
        "Post-Classification Filtering"
      ],
      "metadata": {
        "id": "lg2Q76ysNcUG"
      }
    },
    {
      "cell_type": "code",
      "source": [
        "from scipy.ndimage import generic_filter\n",
        "from scipy.stats import mode\n",
        "\n",
        "def filter_function(invalues):\n",
        "    invalues_mode = mode(invalues, axis=None, nan_policy='omit')\n",
        "    return invalues_mode[0]\n",
        "\n",
        "# Applying the filter function using generic_filter\n",
        "filtered_image = generic_filter(hv_class, function=filter_function, size=5)"
      ],
      "metadata": {
        "id": "ePWScfSgNeqg"
      },
      "execution_count": null,
      "outputs": []
    },
    {
      "cell_type": "code",
      "source": [
        "cmap = ListedColormap([\"green\", \"yellow\", \"red\"])\n",
        "\n",
        "f, ax = plt.subplots(figsize=(10, 10))\n",
        "im = ax.imshow(filtered_image, cmap = cmap)\n",
        "\n",
        "ep.draw_legend(im, titles=[\"Unburned\", \"Mod burn severity\", \"High burn severity\"], classes=[10, 20, 30])"
      ],
      "metadata": {
        "id": "iQKJ6JTINgY1",
        "outputId": "861bfbf6-b90c-4495-ddd7-1f8d7b919fec",
        "colab": {
          "base_uri": "https://localhost:8080/",
          "height": 1000
        }
      },
      "execution_count": null,
      "outputs": [
        {
          "output_type": "error",
          "ename": "NameError",
          "evalue": "name 'filtered_image' is not defined",
          "traceback": [
            "\u001b[0;31m---------------------------------------------------------------------------\u001b[0m",
            "\u001b[0;31mNameError\u001b[0m                                 Traceback (most recent call last)",
            "\u001b[0;32m<ipython-input-19-aeac13eec202>\u001b[0m in \u001b[0;36m<cell line: 7>\u001b[0;34m()\u001b[0m\n\u001b[1;32m      5\u001b[0m \u001b[0mnorm\u001b[0m \u001b[0;34m=\u001b[0m \u001b[0mcolors\u001b[0m\u001b[0;34m.\u001b[0m\u001b[0mBoundaryNorm\u001b[0m\u001b[0;34m(\u001b[0m\u001b[0;34m[\u001b[0m\u001b[0;36m0\u001b[0m\u001b[0;34m,\u001b[0m \u001b[0;36m2\u001b[0m\u001b[0;34m,\u001b[0m \u001b[0;36m10\u001b[0m\u001b[0;34m,\u001b[0m \u001b[0;36m20\u001b[0m\u001b[0;34m,\u001b[0m \u001b[0;36m30\u001b[0m\u001b[0;34m]\u001b[0m\u001b[0;34m,\u001b[0m \u001b[0;36m5\u001b[0m\u001b[0;34m)\u001b[0m\u001b[0;34m\u001b[0m\u001b[0;34m\u001b[0m\u001b[0m\n\u001b[1;32m      6\u001b[0m \u001b[0mf\u001b[0m\u001b[0;34m,\u001b[0m \u001b[0max\u001b[0m \u001b[0;34m=\u001b[0m \u001b[0mplt\u001b[0m\u001b[0;34m.\u001b[0m\u001b[0msubplots\u001b[0m\u001b[0;34m(\u001b[0m\u001b[0mfigsize\u001b[0m\u001b[0;34m=\u001b[0m\u001b[0;34m(\u001b[0m\u001b[0;36m10\u001b[0m\u001b[0;34m,\u001b[0m \u001b[0;36m10\u001b[0m\u001b[0;34m)\u001b[0m\u001b[0;34m)\u001b[0m\u001b[0;34m\u001b[0m\u001b[0;34m\u001b[0m\u001b[0m\n\u001b[0;32m----> 7\u001b[0;31m \u001b[0mim\u001b[0m \u001b[0;34m=\u001b[0m \u001b[0max\u001b[0m\u001b[0;34m.\u001b[0m\u001b[0mimshow\u001b[0m\u001b[0;34m(\u001b[0m\u001b[0mfiltered_image\u001b[0m\u001b[0;34m,\u001b[0m \u001b[0mcmap\u001b[0m \u001b[0;34m=\u001b[0m \u001b[0mcmap\u001b[0m\u001b[0;34m)\u001b[0m\u001b[0;34m\u001b[0m\u001b[0;34m\u001b[0m\u001b[0m\n\u001b[0m\u001b[1;32m      8\u001b[0m \u001b[0;34m\u001b[0m\u001b[0m\n\u001b[1;32m      9\u001b[0m \u001b[0mep\u001b[0m\u001b[0;34m.\u001b[0m\u001b[0mdraw_legend\u001b[0m\u001b[0;34m(\u001b[0m\u001b[0mim\u001b[0m\u001b[0;34m,\u001b[0m \u001b[0mtitles\u001b[0m\u001b[0;34m=\u001b[0m\u001b[0;34m[\u001b[0m\u001b[0;34m\"Unburned\"\u001b[0m\u001b[0;34m,\u001b[0m \u001b[0;34m\"Mod burn severity\"\u001b[0m\u001b[0;34m,\u001b[0m \u001b[0;34m\"High burn severity\"\u001b[0m\u001b[0;34m]\u001b[0m\u001b[0;34m,\u001b[0m \u001b[0mclasses\u001b[0m\u001b[0;34m=\u001b[0m\u001b[0;34m[\u001b[0m\u001b[0;36m10\u001b[0m\u001b[0;34m,\u001b[0m \u001b[0;36m20\u001b[0m\u001b[0;34m,\u001b[0m \u001b[0;36m30\u001b[0m\u001b[0;34m]\u001b[0m\u001b[0;34m)\u001b[0m\u001b[0;34m\u001b[0m\u001b[0;34m\u001b[0m\u001b[0m\n",
            "\u001b[0;31mNameError\u001b[0m: name 'filtered_image' is not defined"
          ]
        },
        {
          "output_type": "display_data",
          "data": {
            "text/plain": [
              "<Figure size 1000x1000 with 1 Axes>"
            ],
            "image/png": "[encoded data removed]"
          },
          "metadata": {}
        }
      ]
    },
    {
      "cell_type": "markdown",
      "source": [
        "# Export\n",
        "- HV_log\n",
        "- fire severity product\n",
        "- send to UAVSAR staging area"
      ],
      "metadata": {
        "id": "55fJL3lRNnq2"
      }
    },
    {
      "cell_type": "code",
      "source": [
        "# Open the reference raster\n",
        "with rio.open(reference_path) as src:\n",
        "    # Get metadata from the reference raster\n",
        "    meta = src.meta\n",
        "\n",
        "    # Update metadata to match the NumPy array\n",
        "    meta.update({\n",
        "        'dtype': HV_log.dtype,\n",
        "        'count': 1  # Assuming there's only one band\n",
        "    })\n",
        "\n",
        "    # Save HV Log Ratio\n",
        "    with rio.open(\"HV_log_uavsar.tif\", 'w', **meta) as dst:\n",
        "        dst.write(HV_log, 1)  # Assuming there's only one band (band index 1)\n",
        "\n",
        "    # Save HV Log Ratio Classification\n",
        "    with rio.open(\"HV_log_uavsar_classification.tif\", 'w', **meta) as dst:\n",
        "        dst.write(hv_class, 1)  # Assuming there's only one band (band index 1)\n",
        "\n",
        "    # Filtered Classification\n",
        "    with rio.open(\"HV_log_uavsar_classification_filtered.tif\", 'w', **meta) as dst:\n",
        "        dst.write(filtered_image, 1)  # Assuming there's only one band (band index 1)"
      ],
      "metadata": {
        "id": "7wE0-HAF_jJL"
      },
      "execution_count": null,
      "outputs": []
    },
    {
      "cell_type": "markdown",
      "source": [
        "or export a data stack\n",
        "\n",
        "1. HV Pre-Fire (Merged opposite headings and Lee Filtered)\n",
        "2. HV Post-Fire (Merged opposite headings and Lee Filtered)\n",
        "3. HV Log\n",
        "4. Fire Severity Classification\n",
        "\n",
        "Could add:\n",
        "- incidence angles\n",
        "- slope\n",
        "- aspect"
      ],
      "metadata": {
        "id": "ZKeEijjIlj66"
      }
    },
    {
      "cell_type": "code",
      "source": [
        "# Open the reference raster\n",
        "with rio.open(reference_raster) as src:\n",
        "    # Get metadata from the reference raster\n",
        "    meta = src.meta\n",
        "\n",
        "    # Update metadata to handle multiple bands\n",
        "    meta.update({\n",
        "        'dtype': 'float32',  # Assuming all bands are of float32 dtype\n",
        "        'count': 4,          # Number of bands\n",
        "        'driver': 'GTiff'\n",
        "    })\n",
        "\n",
        "    # Add band descriptions to the metadata\n",
        "    meta['descriptions'] = ('HV Pre-Fire', 'HV Post-Fire','HV Log Ratio', 'HV Log Ratio Classification')\n",
        "\n",
        "    # Create a new stack with multiple bands\n",
        "    with rio.open(\"uavsar_stack.tif\", 'w', **meta) as dst:\n",
        "        dst.write(merged_arr_prefire, 1)\n",
        "        dst.write(merged_arr_postfire, 2)\n",
        "        dst.write(HV_log, 3)\n",
        "        dst.write(hv_class, 4)\n"
      ],
      "metadata": {
        "id": "zLF-9cAslsHN"
      },
      "execution_count": null,
      "outputs": []
    }
  ],
  "metadata": {
    "colab": {
      "provenance": [],
      "collapsed_sections": [
        "m99HZVbSMSRb"
      ],
      "include_colab_link": true
    },
    "kernelspec": {
      "display_name": "Python 3",
      "name": "python3"
    }
  },
  "nbformat": 4,
  "nbformat_minor": 0
}