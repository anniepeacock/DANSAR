{
  "cells": [
    {
      "cell_type": "markdown",
      "metadata": {
        "id": "view-in-github",
        "colab_type": "text"
      },
      "source": [
        "<a href=\"https://colab.research.google.com/github/anniepeacock/DANSAR/blob/devel/burn_severity/PostFire_TimeSeries.ipynb\" target=\"_parent\"><img src=\"https://colab.research.google.com/assets/colab-badge.svg\" alt=\"Open In Colab\"/></a>"
      ]
    },
    {
      "cell_type": "markdown",
      "metadata": {
        "id": "Voknq5nH02ME"
      },
      "source": [
        "# **SAR & NDVI Regeneration Post-Fire**\n",
        "\n",
        "*Post-Fire comparison of NDVI and SAR*\n",
        "\n",
        "\n",
        "Google Earth Engine code of NDVI time series in SAR burn severity classes:\n",
        "\n",
        "https://code.earthengine.google.com/9d3193fa0f260ceb5182fdf5afb692c0\n",
        "\n",
        "* can print time series, but times out with too much data\n",
        "* can instead export to Google Drive a csv of the time series\n",
        "* currently these are assets on GEE, that can be used for the time series.\n",
        "  * UAVSAR severity classes\n",
        "  * UAVSAR & dNBR agreement/disagreement classes\n",
        "  * BAER severity classes\n",
        "  * MTBS severity classes"
      ]
    },
    {
      "cell_type": "code",
      "source": [
        "# TBD fix csv exporting error"
      ],
      "metadata": {
        "id": "6SDTIL4KMKDR"
      },
      "execution_count": null,
      "outputs": []
    }
  ],
  "metadata": {
    "colab": {
      "provenance": [],
      "collapsed_sections": [
        "m99HZVbSMSRb"
      ],
      "include_colab_link": true
    },
    "kernelspec": {
      "display_name": "Python 3",
      "name": "python3"
    }
  },
  "nbformat": 4,
  "nbformat_minor": 0
}